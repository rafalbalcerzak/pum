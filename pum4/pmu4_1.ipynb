{
 "cells": [
  {
   "cell_type": "code",
   "execution_count": 1,
   "id": "f43d8e5e",
   "metadata": {},
   "outputs": [],
   "source": [
    "from sklearn import datasets, linear_model, metrics, preprocessing, svm\n",
    "from sklearn.preprocessing import PolynomialFeatures\n",
    "import matplotlib.pyplot as plt\n",
    "import numpy as np\n",
    "import scipy\n",
    "import time\n",
    "from math import e\n",
    "import pandas as pd"
   ]
  },
  {
   "cell_type": "code",
   "execution_count": 2,
   "id": "20dd8d50",
   "metadata": {},
   "outputs": [],
   "source": [
    "#ustawienia\n",
    "time_multiplicator = 100\n",
    "seed = 244810\n",
    "samples = 2410"
   ]
  },
  {
   "cell_type": "code",
   "execution_count": 3,
   "id": "053c0e0d",
   "metadata": {},
   "outputs": [],
   "source": [
    "X, y  = datasets.make_classification(n_features=2,n_clusters_per_class=1,n_redundant=0,n_samples=samples, random_state=seed,  )"
   ]
  },
  {
   "cell_type": "code",
   "execution_count": 4,
   "id": "d23bfbf7",
   "metadata": {},
   "outputs": [],
   "source": [
    "from sklearn.model_selection import train_test_split\n",
    "X_train, X_test, y_train, y_test = train_test_split(X, y, test_size=0.2, random_state=0)"
   ]
  },
  {
   "cell_type": "code",
   "execution_count": 5,
   "id": "e4d919c4",
   "metadata": {},
   "outputs": [],
   "source": [
    "def standarize(arr):\n",
    "    for col in range(arr.shape[1]):\n",
    "        xmean = np.mean( arr[:,col])\n",
    "        xstd = np.std( arr[:,col])\n",
    "        arr[:,col] = (arr[:,col] - xmean)/xstd\n",
    "    return arr    \n",
    "    \n",
    "def normalize(arr):\n",
    "    for col in range(arr.shape[1]):\n",
    "        xmin = min( arr[:,col])\n",
    "        xmax = max( arr[:,col])\n",
    "        arr[:,col] = (arr[:,col] - xmin )/(xmax-xmin)\n",
    "    \n",
    "    return arr        \n",
    "    \n",
    "X_train = normalize(X_train)\n",
    "X_test = normalize(X_test)\n"
   ]
  },
  {
   "cell_type": "markdown",
   "id": "6e131090",
   "metadata": {},
   "source": [
    "### Sklearn SVM"
   ]
  },
  {
   "cell_type": "code",
   "execution_count": 6,
   "id": "22ecaf87",
   "metadata": {},
   "outputs": [],
   "source": [
    "sk_time = time.time()\n",
    "for i in range(time_multiplicator):\n",
    "    sk_svm= svm.SVC(kernel='linear').fit(X_train,y_train)\n",
    "sk_time = (time.time() - sk_time)/time_multiplicator \n",
    "sk_svm_pred = sk_svm.predict(X_test)"
   ]
  },
  {
   "cell_type": "code",
   "execution_count": 7,
   "id": "ce68a831",
   "metadata": {},
   "outputs": [
    {
     "data": {
      "text/plain": [
       "0.9149377593360996"
      ]
     },
     "execution_count": 7,
     "metadata": {},
     "output_type": "execute_result"
    }
   ],
   "source": [
    "sk_svm.score(X_test, y_test)"
   ]
  },
  {
   "cell_type": "markdown",
   "id": "b7b6246b",
   "metadata": {},
   "source": [
    "### My SVM"
   ]
  },
  {
   "cell_type": "code",
   "execution_count": 8,
   "id": "ef534b69",
   "metadata": {},
   "outputs": [
    {
     "ename": "IndentationError",
     "evalue": "expected an indented block (1666229714.py, line 12)",
     "output_type": "error",
     "traceback": [
      "\u001b[1;36m  Input \u001b[1;32mIn [8]\u001b[1;36m\u001b[0m\n\u001b[1;33m    def predict(self, x):\u001b[0m\n\u001b[1;37m    ^\u001b[0m\n\u001b[1;31mIndentationError\u001b[0m\u001b[1;31m:\u001b[0m expected an indented block\n"
     ]
    }
   ],
   "source": [
    "class my_svm:\n",
    "    def __init__(self, learning_rate: float = 0.001, iterations: int = 100, lambda_param = 0.01):\n",
    "        self.learning_rate=learning_rate\n",
    "        self.iterations = iterations\n",
    "        self.lambda_param = lambda_param\n",
    "        self.w = None\n",
    "        self.b = None\n",
    "    \n",
    "    def fit(self, X,y):\n",
    "        self.X = X\n",
    "        \n",
    "        \n",
    "    def predict(self, x):\n",
    "        linear_out = np.dot(X, self.w) + self.b\n",
    "        return np.sign(linear_out)\n",
    "        "
   ]
  },
  {
   "cell_type": "code",
   "execution_count": 17,
   "id": "cfedd5e0",
   "metadata": {},
   "outputs": [],
   "source": [
    "def b(x):\n",
    "    path.append(x)\n",
    "    return\n",
    "\n",
    "def a(x):\n",
    "    path=[]\n",
    "    b(1)\n",
    "    return path"
   ]
  },
  {
   "cell_type": "code",
   "execution_count": 18,
   "id": "db690251",
   "metadata": {},
   "outputs": [
    {
     "ename": "NameError",
     "evalue": "name 'path' is not defined",
     "output_type": "error",
     "traceback": [
      "\u001b[1;31m---------------------------------------------------------------------------\u001b[0m",
      "\u001b[1;31mNameError\u001b[0m                                 Traceback (most recent call last)",
      "Input \u001b[1;32mIn [18]\u001b[0m, in \u001b[0;36m<cell line: 1>\u001b[1;34m()\u001b[0m\n\u001b[1;32m----> 1\u001b[0m \u001b[43ma\u001b[49m\u001b[43m(\u001b[49m\u001b[38;5;241;43m1\u001b[39;49m\u001b[43m)\u001b[49m\n",
      "Input \u001b[1;32mIn [17]\u001b[0m, in \u001b[0;36ma\u001b[1;34m(x)\u001b[0m\n\u001b[0;32m      5\u001b[0m \u001b[38;5;28;01mdef\u001b[39;00m \u001b[38;5;21ma\u001b[39m(x):\n\u001b[0;32m      6\u001b[0m     path\u001b[38;5;241m=\u001b[39m[]\n\u001b[1;32m----> 7\u001b[0m     \u001b[43mb\u001b[49m\u001b[43m(\u001b[49m\u001b[38;5;241;43m1\u001b[39;49m\u001b[43m)\u001b[49m\n\u001b[0;32m      8\u001b[0m     \u001b[38;5;28;01mreturn\u001b[39;00m path\n",
      "Input \u001b[1;32mIn [17]\u001b[0m, in \u001b[0;36mb\u001b[1;34m(x)\u001b[0m\n\u001b[0;32m      1\u001b[0m \u001b[38;5;28;01mdef\u001b[39;00m \u001b[38;5;21mb\u001b[39m(x):\n\u001b[1;32m----> 2\u001b[0m     \u001b[43mpath\u001b[49m\u001b[38;5;241m.\u001b[39mappend(x)\n\u001b[0;32m      3\u001b[0m     \u001b[38;5;28;01mreturn\u001b[39;00m\n",
      "\u001b[1;31mNameError\u001b[0m: name 'path' is not defined"
     ]
    }
   ],
   "source": [
    "a(1)"
   ]
  },
  {
   "cell_type": "code",
   "execution_count": null,
   "id": "2074e81f",
   "metadata": {},
   "outputs": [],
   "source": []
  }
 ],
 "metadata": {
  "kernelspec": {
   "display_name": "Python 3 (ipykernel)",
   "language": "python",
   "name": "python3"
  },
  "language_info": {
   "codemirror_mode": {
    "name": "ipython",
    "version": 3
   },
   "file_extension": ".py",
   "mimetype": "text/x-python",
   "name": "python",
   "nbconvert_exporter": "python",
   "pygments_lexer": "ipython3",
   "version": "3.9.0"
  }
 },
 "nbformat": 4,
 "nbformat_minor": 5
}
