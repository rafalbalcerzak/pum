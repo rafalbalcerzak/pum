{
 "cells": [
  {
   "cell_type": "code",
   "execution_count": 1,
   "metadata": {},
   "outputs": [],
   "source": [
    "from sklearn import datasets, linear_model, metrics\n",
    "import scipy\n",
    "import matplotlib.pyplot as plt\n",
    "import numpy as np"
   ]
  },
  {
   "cell_type": "code",
   "execution_count": 2,
   "metadata": {},
   "outputs": [],
   "source": [
    "seed = 244810\n",
    "x,y  = datasets.make_regression(n_features=1,noise=16,n_samples=100, random_state=seed)"
   ]
  },
  {
   "cell_type": "code",
   "execution_count": 3,
   "metadata": {},
   "outputs": [],
   "source": [
    "from sklearn.model_selection import train_test_split\n",
    "\n",
    "X_train, X_test, y_train, y_test = train_test_split(x, y, test_size=0.2)"
   ]
  },
  {
   "cell_type": "markdown",
   "metadata": {},
   "source": [
    "### metoda chyba numeryczna"
   ]
  },
  {
   "cell_type": "code",
   "execution_count": 4,
   "metadata": {},
   "outputs": [
    {
     "name": "stdout",
     "output_type": "stream",
     "text": [
      "51.45617535713391\n",
      "2.58187409306662\n"
     ]
    }
   ],
   "source": [
    "x_mean = np.mean(X_train)\n",
    "y_train_re = np.reshape(y_train,(len(y_train), 1))\n",
    "y_mean = np.mean(y_train_re)\n",
    "\n",
    "xvar = (X_train - x_mean)**2\n",
    "xycov = (y_train_re - y_mean)*(X_train - x_mean)\n",
    "\n",
    "alfa = xycov.sum() / xvar.sum()\n",
    "beta = y_mean - (alfa*x_mean)\n",
    "\n",
    "print(alfa)\n",
    "print(beta)"
   ]
  },
  {
   "cell_type": "markdown",
   "metadata": {},
   "source": [
    "### Metoda analityczna"
   ]
  },
  {
   "cell_type": "code",
   "execution_count": 5,
   "metadata": {},
   "outputs": [],
   "source": [
    "Y = y\n",
    "X = np.ones((len(x),1))\n",
    "\n",
    "X = np.concatenate((X,x),axis=1)"
   ]
  },
  {
   "cell_type": "markdown",
   "metadata": {},
   "source": [
    "### $$θ = (X^T X)^{-1} X^T Y$$"
   ]
  },
  {
   "cell_type": "code",
   "execution_count": 17,
   "metadata": {},
   "outputs": [],
   "source": [
    "#rozbite na części\n",
    "#X^T Y\n",
    "xty = np.matmul(np.transpose(X),Y)\n",
    "#X^T X\n",
    "xtx = np.matmul(np.transpose(X),X)\n",
    "#(X^T X)^-1\n",
    "xtxinv =np.linalg.inv(xtx)\n",
    "#answer\n",
    "ans = np.matmul(xtxinv,xty)\n"
   ]
  },
  {
   "cell_type": "code",
   "execution_count": 15,
   "metadata": {},
   "outputs": [],
   "source": [
    "answer = np.matmul(np.linalg.inv(np.matmul(np.transpose(X),X)),np.matmul(np.transpose(X),Y))\n"
   ]
  },
  {
   "cell_type": "markdown",
   "metadata": {},
   "source": [
    "### Wykres"
   ]
  },
  {
   "cell_type": "code",
   "execution_count": 7,
   "metadata": {},
   "outputs": [
    {
     "data": {
      "text/plain": [
       "<matplotlib.legend.Legend at 0x210aac03e20>"
      ]
     },
     "execution_count": 7,
     "metadata": {},
     "output_type": "execute_result"
    },
    {
     "data": {
      "image/png": "[encoded data removed]",
      "text/plain": [
       "<Figure size 864x432 with 1 Axes>"
      ]
     },
     "metadata": {
      "needs_background": "light"
     },
     "output_type": "display_data"
    }
   ],
   "source": [
    "plt.figure(figsize=(12,6))\n",
    "\n",
    "plt.scatter(X_train,y_train, color='red', alpha=0.5, marker='+', label=\"Train data\")\n",
    "plt.scatter(X_test,y_test, color='green', alpha=0.5, marker='+', label=\"Test data\")\n",
    "\n",
    "plt.plot([min(x),max(x)],[alfa*min(x)+beta, alfa*max(x)+beta], label=\"Numeryczna\")\n",
    "plt.plot([min(x),max(x)], [answer[1]*min(x)+answer[0] , answer[1]*max(x)+answer[0]], label=\"Analityczna\" )\n",
    "\n",
    "plt.legend()\n",
    "\n"
   ]
  },
  {
   "cell_type": "markdown",
   "metadata": {},
   "source": [
    "#### MSE"
   ]
  },
  {
   "cell_type": "code",
   "execution_count": 8,
   "metadata": {},
   "outputs": [],
   "source": [
    "y_pred_an = np.empty(len(y_test))\n",
    "\n",
    "for i in range(len(y_test)):\n",
    "    y_pred_an[i] = answer[1]*X_test[i][0]+answer[0]\n",
    "\n"
   ]
  },
  {
   "cell_type": "code",
   "execution_count": 9,
   "metadata": {},
   "outputs": [
    {
     "data": {
      "text/plain": [
       "416.94113707642646"
      ]
     },
     "execution_count": 9,
     "metadata": {},
     "output_type": "execute_result"
    }
   ],
   "source": [
    "MSE_an = np.square(np.subtract(y_test, y_pred_an )).mean()\n",
    "MSE_an"
   ]
  },
  {
   "cell_type": "code",
   "execution_count": 10,
   "metadata": {},
   "outputs": [
    {
     "data": {
      "text/plain": [
       "array([ 3.48872656e+01, -6.66955052e+00,  6.35191958e+01, -1.00885846e+02,\n",
       "       -1.18920452e-02, -2.11998827e+01,  4.92165792e+01,  1.74877180e+01,\n",
       "       -1.95766549e+01, -2.55436247e+01, -7.89142938e+00,  5.98424103e+01,\n",
       "        2.00569474e+00, -2.87728116e+01,  7.41937150e+01, -5.27808324e+00,\n",
       "       -3.82243835e+01, -5.95449845e+01, -1.15706385e+01,  2.70771718e+01])"
      ]
     },
     "execution_count": 10,
     "metadata": {},
     "output_type": "execute_result"
    }
   ],
   "source": [
    "y_pred_num = np.empty(len(y_test))\n",
    "\n",
    "for i in range(len(y_test)):\n",
    "    y_pred_num[i] = alfa*X_test[i][0]+beta\n",
    "\n",
    "y_pred_num"
   ]
  },
  {
   "cell_type": "code",
   "execution_count": 11,
   "metadata": {},
   "outputs": [
    {
     "data": {
      "text/plain": [
       "462.30622370954814"
      ]
     },
     "execution_count": 11,
     "metadata": {},
     "output_type": "execute_result"
    }
   ],
   "source": [
    "MSE_num = np.square(np.subtract(y_test, y_pred_num )).mean()\n",
    "MSE_num"
   ]
  },
  {
   "cell_type": "code",
   "execution_count": null,
   "metadata": {},
   "outputs": [],
   "source": []
  }
 ],
 "metadata": {
  "kernelspec": {
   "display_name": "Python 3",
   "language": "python",
   "name": "python3"
  },
  "language_info": {
   "codemirror_mode": {
    "name": "ipython",
    "version": 3
   },
   "file_extension": ".py",
   "mimetype": "text/x-python",
   "name": "python",
   "nbconvert_exporter": "python",
   "pygments_lexer": "ipython3",
   "version": "3.8.5"
  }
 },
 "nbformat": 4,
 "nbformat_minor": 4
}
