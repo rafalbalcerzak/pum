{
 "cells": [
  {
   "cell_type": "code",
   "execution_count": 55,
   "metadata": {},
   "outputs": [],
   "source": [
    "from sklearn import datasets, linear_model, metrics\n",
    "import matplotlib.pyplot as plt\n",
    "import numpy as np\n",
    "import scipy\n",
    "import time"
   ]
  },
  {
   "cell_type": "code",
   "execution_count": 56,
   "metadata": {},
   "outputs": [],
   "source": [
    "#ustawienia\n",
    "time_multiplicator = 100\n",
    "seed = 244810\n",
    "samples = 100\n",
    "noise = 16"
   ]
  },
  {
   "cell_type": "code",
   "execution_count": 57,
   "metadata": {},
   "outputs": [],
   "source": [
    "#tworzenie dataset\n",
    "x,Y  = datasets.make_regression(n_features=1,noise=noise,n_samples=samples, random_state=seed)"
   ]
  },
  {
   "cell_type": "code",
   "execution_count": 58,
   "metadata": {},
   "outputs": [],
   "source": [
    "#podział dataset na dane treningowe i testowe\n",
    "from sklearn.model_selection import train_test_split\n",
    "X_train, X_test, y_train, y_test = train_test_split(x, Y, test_size=0.2)"
   ]
  },
  {
   "cell_type": "code",
   "execution_count": 59,
   "metadata": {},
   "outputs": [],
   "source": [
    "from sklearn.preprocessing import PolynomialFeatures\n",
    "poly = PolynomialFeatures(1)\n",
    "X = poly.fit_transform(x)"
   ]
  },
  {
   "cell_type": "markdown",
   "metadata": {},
   "source": [
    "### Metoda numeryczna"
   ]
  },
  {
   "cell_type": "code",
   "execution_count": 36,
   "metadata": {},
   "outputs": [
    {
     "data": {
      "text/plain": [
       "array([[ 1.        ,  2.07800412],\n",
       "       [ 1.        ,  1.39170547],\n",
       "       [ 1.        ,  0.62782341],\n",
       "       [ 1.        ,  1.07277179],\n",
       "       [ 1.        ,  0.39218485],\n",
       "       [ 1.        , -0.83147297],\n",
       "       [ 1.        ,  0.72059195],\n",
       "       [ 1.        , -1.11251145],\n",
       "       [ 1.        , -0.71786966],\n",
       "       [ 1.        , -0.93141709],\n",
       "       [ 1.        ,  0.75448333],\n",
       "       [ 1.        , -0.14784469],\n",
       "       [ 1.        , -1.90294467],\n",
       "       [ 1.        ,  0.78790338],\n",
       "       [ 1.        ,  0.36436949],\n",
       "       [ 1.        ,  1.56133249],\n",
       "       [ 1.        , -0.99524417],\n",
       "       [ 1.        , -0.34513437],\n",
       "       [ 1.        , -1.2073742 ],\n",
       "       [ 1.        , -0.46217498],\n",
       "       [ 1.        ,  0.28968037],\n",
       "       [ 1.        , -0.15275052],\n",
       "       [ 1.        , -0.01119748],\n",
       "       [ 1.        ,  0.9428586 ],\n",
       "       [ 1.        , -0.43062915],\n",
       "       [ 1.        ,  0.54158395],\n",
       "       [ 1.        ,  1.49492397],\n",
       "       [ 1.        ,  0.48479054],\n",
       "       [ 1.        , -0.47510864],\n",
       "       [ 1.        ,  3.110612  ],\n",
       "       [ 1.        ,  1.54642342],\n",
       "       [ 1.        , -0.79302936],\n",
       "       [ 1.        ,  1.34716622],\n",
       "       [ 1.        ,  2.01287619],\n",
       "       [ 1.        , -0.38613997],\n",
       "       [ 1.        , -0.54659132],\n",
       "       [ 1.        , -0.86953823],\n",
       "       [ 1.        ,  0.01616738],\n",
       "       [ 1.        , -0.90071624],\n",
       "       [ 1.        , -0.60934738],\n",
       "       [ 1.        ,  1.18425672],\n",
       "       [ 1.        ,  0.35242245],\n",
       "       [ 1.        ,  0.40020608],\n",
       "       [ 1.        , -0.65689431],\n",
       "       [ 1.        , -0.4383954 ],\n",
       "       [ 1.        ,  0.39877842],\n",
       "       [ 1.        ,  1.11280203],\n",
       "       [ 1.        ,  0.90629948],\n",
       "       [ 1.        , -0.20353832],\n",
       "       [ 1.        , -0.17979231],\n",
       "       [ 1.        ,  0.46552991],\n",
       "       [ 1.        ,  0.79906283],\n",
       "       [ 1.        ,  0.56637346],\n",
       "       [ 1.        ,  0.47604194],\n",
       "       [ 1.        , -0.17552272],\n",
       "       [ 1.        ,  0.7293432 ],\n",
       "       [ 1.        , -0.56418836],\n",
       "       [ 1.        ,  0.52077058],\n",
       "       [ 1.        , -0.27504012],\n",
       "       [ 1.        , -0.65010205],\n",
       "       [ 1.        , -1.54309948],\n",
       "       [ 1.        , -0.45625769],\n",
       "       [ 1.        ,  1.25412925],\n",
       "       [ 1.        , -0.79913005],\n",
       "       [ 1.        , -0.49272907],\n",
       "       [ 1.        ,  0.75560273],\n",
       "       [ 1.        ,  0.27394934],\n",
       "       [ 1.        , -0.05040729],\n",
       "       [ 1.        , -0.50086472],\n",
       "       [ 1.        , -0.49730917],\n",
       "       [ 1.        , -0.19418333],\n",
       "       [ 1.        ,  0.83367767],\n",
       "       [ 1.        , -0.72497965],\n",
       "       [ 1.        ,  0.45749547],\n",
       "       [ 1.        ,  0.09324176],\n",
       "       [ 1.        , -0.17052913],\n",
       "       [ 1.        , -1.33613466],\n",
       "       [ 1.        ,  1.03999883],\n",
       "       [ 1.        ,  0.09391303],\n",
       "       [ 1.        ,  0.48455025],\n",
       "       [ 1.        , -0.01274732],\n",
       "       [ 1.        , -2.01079305],\n",
       "       [ 1.        ,  0.04022676],\n",
       "       [ 1.        , -1.12859925],\n",
       "       [ 1.        , -1.10786236],\n",
       "       [ 1.        ,  1.12268583],\n",
       "       [ 1.        ,  0.11020834],\n",
       "       [ 1.        ,  1.05378278],\n",
       "       [ 1.        ,  1.23991169],\n",
       "       [ 1.        , -1.38370588],\n",
       "       [ 1.        ,  0.80607422],\n",
       "       [ 1.        ,  1.66759877],\n",
       "       [ 1.        , -0.72192823],\n",
       "       [ 1.        ,  0.7994808 ],\n",
       "       [ 1.        , -0.86901966],\n",
       "       [ 1.        ,  0.53644291],\n",
       "       [ 1.        ,  1.54687874],\n",
       "       [ 1.        , -0.82783345],\n",
       "       [ 1.        , -0.8764822 ],\n",
       "       [ 1.        ,  0.37931095]])"
      ]
     },
     "execution_count": 36,
     "metadata": {},
     "output_type": "execute_result"
    }
   ],
   "source": [
    "X"
   ]
  },
  {
   "cell_type": "markdown",
   "metadata": {},
   "source": [
    "### $$ L(θ) = \\frac{1}{N}(Y - X^T θ)^{T} (Y - X^T θ) $$"
   ]
  },
  {
   "cell_type": "code",
   "execution_count": 6,
   "metadata": {},
   "outputs": [],
   "source": [
    "def func(w, X, Y):\n",
    "    y\n",
    "    \n",
    "    \n",
    "    \n",
    "    \n",
    "    yxtans = np.subtract(np.reshape(Y,(len(Y),1)), np.matmul(X, np.transpose(np.reshape(w,(1,2)))))\n",
    "    yxtansyxtans = np.matmul(np.transpose(yxtans),yxtans)\n",
    "    return yxtansyxtans*(1/len(X_train))\n",
    "    "
   ]
  },
  {
   "cell_type": "code",
   "execution_count": 9,
   "metadata": {},
   "outputs": [
    {
     "ename": "NameError",
     "evalue": "name 'func' is not defined",
     "output_type": "error",
     "traceback": [
      "\u001b[1;31m---------------------------------------------------------------------------\u001b[0m",
      "\u001b[1;31mNameError\u001b[0m                                 Traceback (most recent call last)",
      "Input \u001b[1;32mIn [9]\u001b[0m, in \u001b[0;36m<cell line: 2>\u001b[1;34m()\u001b[0m\n\u001b[0;32m      1\u001b[0m start_num \u001b[38;5;241m=\u001b[39m time\u001b[38;5;241m.\u001b[39mtime()\n\u001b[0;32m      2\u001b[0m \u001b[38;5;28;01mfor\u001b[39;00m i \u001b[38;5;129;01min\u001b[39;00m \u001b[38;5;28mrange\u001b[39m(time_multiplicator):\n\u001b[1;32m----> 3\u001b[0m     ans_num \u001b[38;5;241m=\u001b[39m scipy\u001b[38;5;241m.\u001b[39moptimize\u001b[38;5;241m.\u001b[39mminimize(\u001b[43mfunc\u001b[49m,[\u001b[38;5;241m1\u001b[39m,\u001b[38;5;241m1\u001b[39m], args\u001b[38;5;241m=\u001b[39m(X,Y),method\u001b[38;5;241m=\u001b[39m\u001b[38;5;124m\"\u001b[39m\u001b[38;5;124mPowell\u001b[39m\u001b[38;5;124m\"\u001b[39m)\n\u001b[0;32m      4\u001b[0m num_ex_time \u001b[38;5;241m=\u001b[39m (time\u001b[38;5;241m.\u001b[39mtime() \u001b[38;5;241m-\u001b[39m start_num)\u001b[38;5;241m/\u001b[39mtime_multiplicator\n",
      "\u001b[1;31mNameError\u001b[0m: name 'func' is not defined"
     ]
    }
   ],
   "source": [
    "start_num = time.time()\n",
    "for i in range(time_multiplicator):\n",
    "    ans_num = scipy.optimize.minimize(func,[1,1], args=(X,Y),method=\"Powell\")\n",
    "num_ex_time = (time.time() - start_num)/time_multiplicator"
   ]
  },
  {
   "cell_type": "code",
   "execution_count": 10,
   "metadata": {},
   "outputs": [
    {
     "ename": "NameError",
     "evalue": "name 'ans_num' is not defined",
     "output_type": "error",
     "traceback": [
      "\u001b[1;31m---------------------------------------------------------------------------\u001b[0m",
      "\u001b[1;31mNameError\u001b[0m                                 Traceback (most recent call last)",
      "Input \u001b[1;32mIn [10]\u001b[0m, in \u001b[0;36m<cell line: 1>\u001b[1;34m()\u001b[0m\n\u001b[1;32m----> 1\u001b[0m \u001b[38;5;28mprint\u001b[39m(\u001b[43mans_num\u001b[49m\u001b[38;5;241m.\u001b[39mx[\u001b[38;5;241m0\u001b[39m])\n",
      "\u001b[1;31mNameError\u001b[0m: name 'ans_num' is not defined"
     ]
    }
   ],
   "source": [
    "print(ans_num.x[0])"
   ]
  },
  {
   "cell_type": "markdown",
   "metadata": {},
   "source": [
    "### Metoda analityczna"
   ]
  },
  {
   "cell_type": "markdown",
   "metadata": {},
   "source": [
    "### $$ θ = (X^T X)^{-1} X^T Y $$"
   ]
  },
  {
   "cell_type": "code",
   "execution_count": 11,
   "metadata": {},
   "outputs": [],
   "source": [
    "#rozbite na części\n",
    "#X^T Y\n",
    "xty = np.matmul(np.transpose(X),Y)\n",
    "#X^T X\n",
    "xtx = np.matmul(np.transpose(X),X)\n",
    "#(X^T X)^-1\n",
    "xtxinv =np.linalg.inv(xtx)\n",
    "#answer\n",
    "ans = np.matmul(xtxinv,xty)\n"
   ]
  },
  {
   "cell_type": "code",
   "execution_count": 62,
   "metadata": {},
   "outputs": [],
   "source": [
    "X= [[1,1],[1,2],[1,3]]\n",
    "Y= [1,3,5]"
   ]
  },
  {
   "cell_type": "code",
   "execution_count": 63,
   "metadata": {},
   "outputs": [],
   "source": [
    "start_ana = time.time()\n",
    "for i in range(time_multiplicator):\n",
    "    ans_ana = np.matmul(np.linalg.inv(np.matmul(np.transpose(X),X)),np.matmul(np.transpose(X),Y))\n",
    "ana_ex_time = (time.time() - start_ana)/time_multiplicator "
   ]
  },
  {
   "cell_type": "code",
   "execution_count": 64,
   "metadata": {},
   "outputs": [
    {
     "name": "stdout",
     "output_type": "stream",
     "text": [
      "[-1.  2.]\n"
     ]
    }
   ],
   "source": [
    "print(ans_ana)"
   ]
  },
  {
   "cell_type": "code",
   "execution_count": 65,
   "metadata": {},
   "outputs": [
    {
     "data": {
      "text/plain": [
       "<matplotlib.legend.Legend at 0x200740947c0>"
      ]
     },
     "execution_count": 65,
     "metadata": {},
     "output_type": "execute_result"
    },
    {
     "data": {
      "image/png": "[encoded data removed]",
      "text/plain": [
       "<Figure size 864x432 with 1 Axes>"
      ]
     },
     "metadata": {
      "needs_background": "light"
     },
     "output_type": "display_data"
    }
   ],
   "source": [
    "x=[1,2,3]\n",
    "plt.figure(figsize=(12,6))\n",
    "\n",
    "plt.scatter(x,Y, color='red', alpha=0.5, marker='+', label=\"Train data\")\n",
    "\n",
    "plt.plot([min(x),max(x)], [ans_ana[1]*min(x)+ans_ana[0] , ans_ana[1]*max(x)+ans_ana[0]], label=\"Analityczna\", linestyle=\":\" )\n",
    "\n",
    "plt.legend()"
   ]
  },
  {
   "cell_type": "code",
   "execution_count": 67,
   "metadata": {},
   "outputs": [
    {
     "data": {
      "text/plain": [
       "array([[1., 1., 1.],\n",
       "       [1., 2., 4.],\n",
       "       [1., 3., 9.]])"
      ]
     },
     "execution_count": 67,
     "metadata": {},
     "output_type": "execute_result"
    }
   ],
   "source": [
    "poly = PolynomialFeatures(2)\n",
    "x=[[1],[2],[3]]\n",
    "X = poly.fit_transform(x)\n",
    "X"
   ]
  },
  {
   "cell_type": "markdown",
   "metadata": {},
   "source": [
    "### Wykres"
   ]
  },
  {
   "cell_type": "code",
   "execution_count": 21,
   "metadata": {},
   "outputs": [
    {
     "ename": "NameError",
     "evalue": "name 'ans_num' is not defined",
     "output_type": "error",
     "traceback": [
      "\u001b[1;31m---------------------------------------------------------------------------\u001b[0m",
      "\u001b[1;31mNameError\u001b[0m                                 Traceback (most recent call last)",
      "Input \u001b[1;32mIn [21]\u001b[0m, in \u001b[0;36m<cell line: 6>\u001b[1;34m()\u001b[0m\n\u001b[0;32m      3\u001b[0m plt\u001b[38;5;241m.\u001b[39mscatter(X_train,y_train, color\u001b[38;5;241m=\u001b[39m\u001b[38;5;124m'\u001b[39m\u001b[38;5;124mred\u001b[39m\u001b[38;5;124m'\u001b[39m, alpha\u001b[38;5;241m=\u001b[39m\u001b[38;5;241m0.5\u001b[39m, marker\u001b[38;5;241m=\u001b[39m\u001b[38;5;124m'\u001b[39m\u001b[38;5;124m+\u001b[39m\u001b[38;5;124m'\u001b[39m, label\u001b[38;5;241m=\u001b[39m\u001b[38;5;124m\"\u001b[39m\u001b[38;5;124mTrain data\u001b[39m\u001b[38;5;124m\"\u001b[39m)\n\u001b[0;32m      4\u001b[0m plt\u001b[38;5;241m.\u001b[39mscatter(X_test,y_test, color\u001b[38;5;241m=\u001b[39m\u001b[38;5;124m'\u001b[39m\u001b[38;5;124mgreen\u001b[39m\u001b[38;5;124m'\u001b[39m, alpha\u001b[38;5;241m=\u001b[39m\u001b[38;5;241m0.5\u001b[39m, marker\u001b[38;5;241m=\u001b[39m\u001b[38;5;124m'\u001b[39m\u001b[38;5;124m+\u001b[39m\u001b[38;5;124m'\u001b[39m, label\u001b[38;5;241m=\u001b[39m\u001b[38;5;124m\"\u001b[39m\u001b[38;5;124mTest data\u001b[39m\u001b[38;5;124m\"\u001b[39m)\n\u001b[1;32m----> 6\u001b[0m plt\u001b[38;5;241m.\u001b[39mplot([\u001b[38;5;28mmin\u001b[39m(x),\u001b[38;5;28mmax\u001b[39m(x)], [\u001b[43mans_num\u001b[49m\u001b[38;5;241m.\u001b[39mx[\u001b[38;5;241m0\u001b[39m][\u001b[38;5;241m1\u001b[39m]\u001b[38;5;241m*\u001b[39m\u001b[38;5;28mmin\u001b[39m(x)\u001b[38;5;241m+\u001b[39mans_num\u001b[38;5;241m.\u001b[39mx[\u001b[38;5;241m0\u001b[39m][\u001b[38;5;241m0\u001b[39m] , ans_num\u001b[38;5;241m.\u001b[39mx[\u001b[38;5;241m0\u001b[39m][\u001b[38;5;241m1\u001b[39m]\u001b[38;5;241m*\u001b[39m\u001b[38;5;28mmax\u001b[39m(x)\u001b[38;5;241m+\u001b[39mans_num\u001b[38;5;241m.\u001b[39mx[\u001b[38;5;241m0\u001b[39m][\u001b[38;5;241m0\u001b[39m]], label\u001b[38;5;241m=\u001b[39m\u001b[38;5;124m\"\u001b[39m\u001b[38;5;124mNumeryczna\u001b[39m\u001b[38;5;124m\"\u001b[39m, linestyle\u001b[38;5;241m=\u001b[39m\u001b[38;5;124m\"\u001b[39m\u001b[38;5;124m:\u001b[39m\u001b[38;5;124m\"\u001b[39m )\n\u001b[0;32m      8\u001b[0m plt\u001b[38;5;241m.\u001b[39mplot([\u001b[38;5;28mmin\u001b[39m(x),\u001b[38;5;28mmax\u001b[39m(x)], [ans_ana[\u001b[38;5;241m1\u001b[39m]\u001b[38;5;241m*\u001b[39m\u001b[38;5;28mmin\u001b[39m(x)\u001b[38;5;241m+\u001b[39mans_ana[\u001b[38;5;241m0\u001b[39m] , ans_ana[\u001b[38;5;241m1\u001b[39m]\u001b[38;5;241m*\u001b[39m\u001b[38;5;28mmax\u001b[39m(x)\u001b[38;5;241m+\u001b[39mans_ana[\u001b[38;5;241m0\u001b[39m]], label\u001b[38;5;241m=\u001b[39m\u001b[38;5;124m\"\u001b[39m\u001b[38;5;124mAnalityczna\u001b[39m\u001b[38;5;124m\"\u001b[39m, linestyle\u001b[38;5;241m=\u001b[39m\u001b[38;5;124m\"\u001b[39m\u001b[38;5;124m:\u001b[39m\u001b[38;5;124m\"\u001b[39m )\n\u001b[0;32m     10\u001b[0m plt\u001b[38;5;241m.\u001b[39mlegend()\n",
      "\u001b[1;31mNameError\u001b[0m: name 'ans_num' is not defined"
     ]
    },
    {
     "data": {
      "image/png": "[encoded data removed]",
      "text/plain": [
       "<Figure size 864x432 with 1 Axes>"
      ]
     },
     "metadata": {
      "needs_background": "light"
     },
     "output_type": "display_data"
    }
   ],
   "source": [
    "plt.figure(figsize=(12,6))\n",
    "\n",
    "plt.scatter(X_train,y_train, color='red', alpha=0.5, marker='+', label=\"Train data\")\n",
    "plt.scatter(X_test,y_test, color='green', alpha=0.5, marker='+', label=\"Test data\")\n",
    "\n",
    "plt.plot([min(x),max(x)], [ans_num.x[0][1]*min(x)+ans_num.x[0][0] , ans_num.x[0][1]*max(x)+ans_num.x[0][0]], label=\"Numeryczna\", linestyle=\":\" )\n",
    "\n",
    "plt.plot([min(x),max(x)], [ans_ana[1]*min(x)+ans_ana[0] , ans_ana[1]*max(x)+ans_ana[0]], label=\"Analityczna\", linestyle=\":\" )\n",
    "\n",
    "plt.legend()\n",
    "\n"
   ]
  },
  {
   "cell_type": "markdown",
   "metadata": {},
   "source": [
    "### MSE dla danych testowych"
   ]
  },
  {
   "cell_type": "code",
   "execution_count": 13,
   "metadata": {},
   "outputs": [],
   "source": [
    "y_pred_an = np.empty(len(y_test))\n",
    "\n",
    "for i in range(len(y_test)):\n",
    "    y_pred_an[i] = ans_ana[1]*X_test[i][0]+ans_ana[0]\n",
    "\n",
    "MSE_an = np.square(np.subtract(y_test, y_pred_an )).mean()"
   ]
  },
  {
   "cell_type": "code",
   "execution_count": 14,
   "metadata": {},
   "outputs": [],
   "source": [
    "y_pred_num = np.empty(len(y_test))\n",
    "\n",
    "for i in range(len(y_test)):\n",
    "    y_pred_num[i] = ans_num.x[0][1]*X_test[i][0]+ans_num.x[0][0]\n",
    "\n",
    "MSE_num = np.square(np.subtract(y_test, y_pred_num )).mean()"
   ]
  },
  {
   "cell_type": "markdown",
   "metadata": {},
   "source": [
    "### Porównanie metody numerycznej i analitycznej"
   ]
  },
  {
   "cell_type": "code",
   "execution_count": 15,
   "metadata": {},
   "outputs": [
    {
     "name": "stdout",
     "output_type": "stream",
     "text": [
      "MSE dla metody numerycznej:  213.1187988468917\n",
      "MSE dla metody analitycznej: 213.11879884293793\n"
     ]
    }
   ],
   "source": [
    "print(\"MSE dla metody numerycznej: \",MSE_num)\n",
    "print(\"MSE dla metody analitycznej:\",MSE_an)"
   ]
  },
  {
   "cell_type": "code",
   "execution_count": 16,
   "metadata": {},
   "outputs": [
    {
     "name": "stdout",
     "output_type": "stream",
     "text": [
      "Czas wykonania dla metody numerycznej:  0.004891\n",
      "Czas wykonania dla metody analitycznej: 0.000020\n"
     ]
    }
   ],
   "source": [
    "print(\"Czas wykonania dla metody numerycznej: \",'{:f}'.format(num_ex_time))\n",
    "print(\"Czas wykonania dla metody analitycznej:\",'{:f}'.format(ana_ex_time))"
   ]
  },
  {
   "cell_type": "code",
   "execution_count": 17,
   "metadata": {},
   "outputs": [],
   "source": [
    "#print(\"Czas wykonania dla metody numerycznej: \",'{:.3e}'.format(num_ex_time))\n",
    "#print(\"Czas wykonania dla metody analitycznej:\",'{:.3e}'.format(ana_ex_time))"
   ]
  },
  {
   "cell_type": "code",
   "execution_count": null,
   "metadata": {},
   "outputs": [],
   "source": []
  }
 ],
 "metadata": {
  "kernelspec": {
   "display_name": "Python 3 (ipykernel)",
   "language": "python",
   "name": "python3"
  },
  "language_info": {
   "codemirror_mode": {
    "name": "ipython",
    "version": 3
   },
   "file_extension": ".py",
   "mimetype": "text/x-python",
   "name": "python",
   "nbconvert_exporter": "python",
   "pygments_lexer": "ipython3",
   "version": "3.9.0"
  }
 },
 "nbformat": 4,
 "nbformat_minor": 4
}
