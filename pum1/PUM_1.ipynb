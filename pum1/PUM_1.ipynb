{
 "cells": [
  {
   "cell_type": "code",
   "execution_count": 1,
   "metadata": {},
   "outputs": [],
   "source": [
    "from sklearn import datasets, linear_model, metrics\n",
    "import matplotlib.pyplot as plt\n",
    "import numpy as np\n",
    "import scipy\n",
    "import time"
   ]
  },
  {
   "cell_type": "code",
   "execution_count": 2,
   "metadata": {},
   "outputs": [],
   "source": [
    "#ustawienia\n",
    "time_multiplicator = 100\n",
    "seed = 244810\n",
    "samples = 100\n",
    "noise = 16"
   ]
  },
  {
   "cell_type": "code",
   "execution_count": 3,
   "metadata": {},
   "outputs": [],
   "source": [
    "#tworzenie dataset\n",
    "x,Y  = datasets.make_regression(n_features=1,noise=noise,n_samples=samples, random_state=seed)"
   ]
  },
  {
   "cell_type": "code",
   "execution_count": 4,
   "metadata": {},
   "outputs": [],
   "source": [
    "#podział dataset na dane treningowe i testowe\n",
    "from sklearn.model_selection import train_test_split\n",
    "X_train, X_test, y_train, y_test = train_test_split(x, Y, test_size=0.2)"
   ]
  },
  {
   "cell_type": "code",
   "execution_count": 22,
   "metadata": {},
   "outputs": [],
   "source": [
    "from sklearn.preprocessing import PolynomialFeatures\n",
    "poly = PolynomialFeatures(1)\n",
    "X = poly.fit_transform(x)"
   ]
  },
  {
   "cell_type": "markdown",
   "metadata": {},
   "source": [
    "### Metoda numeryczna"
   ]
  },
  {
   "cell_type": "markdown",
   "metadata": {},
   "source": [
    "### $$ L(θ) = \\frac{1}{N}(Y - X^T θ)^{T} (Y - X^T θ) $$"
   ]
  },
  {
   "cell_type": "code",
   "execution_count": 6,
   "metadata": {},
   "outputs": [],
   "source": [
    "def func(w, X, Y):\n",
    "    y\n",
    "    \n",
    "    \n",
    "    \n",
    "    \n",
    "    yxtans = np.subtract(np.reshape(Y,(len(Y),1)), np.matmul(X, np.transpose(np.reshape(w,(1,2)))))\n",
    "    yxtansyxtans = np.matmul(np.transpose(yxtans),yxtans)\n",
    "    return yxtansyxtans*(1/len(X_train))\n",
    "    "
   ]
  },
  {
   "cell_type": "code",
   "execution_count": 7,
   "metadata": {},
   "outputs": [],
   "source": [
    "start_num = time.time()\n",
    "for i in range(time_multiplicator):\n",
    "    ans_num = scipy.optimize.minimize(func,[1,1], args=(X,Y),method=\"Powell\")\n",
    "num_ex_time = (time.time() - start_num)/time_multiplicator"
   ]
  },
  {
   "cell_type": "code",
   "execution_count": 8,
   "metadata": {},
   "outputs": [
    {
     "name": "stdout",
     "output_type": "stream",
     "text": [
      "[ 0.59277057 52.88411096]\n"
     ]
    }
   ],
   "source": [
    "print(ans_num.x[0])"
   ]
  },
  {
   "cell_type": "markdown",
   "metadata": {},
   "source": [
    "### Metoda analityczna"
   ]
  },
  {
   "cell_type": "markdown",
   "metadata": {},
   "source": [
    "### $$ θ = (X^T X)^{-1} X^T Y $$"
   ]
  },
  {
   "cell_type": "code",
   "execution_count": 9,
   "metadata": {},
   "outputs": [],
   "source": [
    "#rozbite na części\n",
    "#X^T Y\n",
    "xty = np.matmul(np.transpose(X),Y)\n",
    "#X^T X\n",
    "xtx = np.matmul(np.transpose(X),X)\n",
    "#(X^T X)^-1\n",
    "xtxinv =np.linalg.inv(xtx)\n",
    "#answer\n",
    "ans = np.matmul(xtxinv,xty)\n"
   ]
  },
  {
   "cell_type": "code",
   "execution_count": 10,
   "metadata": {},
   "outputs": [],
   "source": [
    "start_ana = time.time()\n",
    "for i in range(time_multiplicator):\n",
    "    ans_ana = np.matmul(np.linalg.inv(np.matmul(np.transpose(X),X)),np.matmul(np.transpose(X),Y))\n",
    "ana_ex_time = (time.time() - start_ana)/time_multiplicator "
   ]
  },
  {
   "cell_type": "code",
   "execution_count": 11,
   "metadata": {},
   "outputs": [
    {
     "name": "stdout",
     "output_type": "stream",
     "text": [
      "[ 0.59277057 52.88411096]\n"
     ]
    }
   ],
   "source": [
    "print(ans_ana)"
   ]
  },
  {
   "cell_type": "markdown",
   "metadata": {},
   "source": [
    "### Wykres"
   ]
  },
  {
   "cell_type": "code",
   "execution_count": 12,
   "metadata": {},
   "outputs": [
    {
     "data": {
      "text/plain": [
       "<matplotlib.legend.Legend at 0x230414d2fa0>"
      ]
     },
     "execution_count": 12,
     "metadata": {},
     "output_type": "execute_result"
    },
    {
     "data": {
      "image/png": "[encoded data removed]",
      "text/plain": [
       "<Figure size 864x432 with 1 Axes>"
      ]
     },
     "metadata": {
      "needs_background": "light"
     },
     "output_type": "display_data"
    }
   ],
   "source": [
    "plt.figure(figsize=(12,6))\n",
    "\n",
    "plt.scatter(X_train,y_train, color='red', alpha=0.5, marker='+', label=\"Train data\")\n",
    "plt.scatter(X_test,y_test, color='green', alpha=0.5, marker='+', label=\"Test data\")\n",
    "\n",
    "plt.plot([min(x),max(x)], [ans_num.x[0][1]*min(x)+ans_num.x[0][0] , ans_num.x[0][1]*max(x)+ans_num.x[0][0]], label=\"Numeryczna\", linestyle=\":\" )\n",
    "\n",
    "plt.plot([min(x),max(x)], [ans_ana[1]*min(x)+ans_ana[0] , ans_ana[1]*max(x)+ans_ana[0]], label=\"Analityczna\", linestyle=\":\" )\n",
    "\n",
    "plt.legend()\n",
    "\n"
   ]
  },
  {
   "cell_type": "markdown",
   "metadata": {},
   "source": [
    "### MSE dla danych testowych"
   ]
  },
  {
   "cell_type": "code",
   "execution_count": 13,
   "metadata": {},
   "outputs": [],
   "source": [
    "y_pred_an = np.empty(len(y_test))\n",
    "\n",
    "for i in range(len(y_test)):\n",
    "    y_pred_an[i] = ans_ana[1]*X_test[i][0]+ans_ana[0]\n",
    "\n",
    "MSE_an = np.square(np.subtract(y_test, y_pred_an )).mean()"
   ]
  },
  {
   "cell_type": "code",
   "execution_count": 14,
   "metadata": {},
   "outputs": [],
   "source": [
    "y_pred_num = np.empty(len(y_test))\n",
    "\n",
    "for i in range(len(y_test)):\n",
    "    y_pred_num[i] = ans_num.x[0][1]*X_test[i][0]+ans_num.x[0][0]\n",
    "\n",
    "MSE_num = np.square(np.subtract(y_test, y_pred_num )).mean()"
   ]
  },
  {
   "cell_type": "markdown",
   "metadata": {},
   "source": [
    "### Porównanie metody numerycznej i analitycznej"
   ]
  },
  {
   "cell_type": "code",
   "execution_count": 15,
   "metadata": {},
   "outputs": [
    {
     "name": "stdout",
     "output_type": "stream",
     "text": [
      "MSE dla metody numerycznej:  213.1187988468917\n",
      "MSE dla metody analitycznej: 213.11879884293793\n"
     ]
    }
   ],
   "source": [
    "print(\"MSE dla metody numerycznej: \",MSE_num)\n",
    "print(\"MSE dla metody analitycznej:\",MSE_an)"
   ]
  },
  {
   "cell_type": "code",
   "execution_count": 16,
   "metadata": {},
   "outputs": [
    {
     "name": "stdout",
     "output_type": "stream",
     "text": [
      "Czas wykonania dla metody numerycznej:  0.004891\n",
      "Czas wykonania dla metody analitycznej: 0.000020\n"
     ]
    }
   ],
   "source": [
    "print(\"Czas wykonania dla metody numerycznej: \",'{:f}'.format(num_ex_time))\n",
    "print(\"Czas wykonania dla metody analitycznej:\",'{:f}'.format(ana_ex_time))"
   ]
  },
  {
   "cell_type": "code",
   "execution_count": 17,
   "metadata": {},
   "outputs": [],
   "source": [
    "#print(\"Czas wykonania dla metody numerycznej: \",'{:.3e}'.format(num_ex_time))\n",
    "#print(\"Czas wykonania dla metody analitycznej:\",'{:.3e}'.format(ana_ex_time))"
   ]
  },
  {
   "cell_type": "code",
   "execution_count": null,
   "metadata": {},
   "outputs": [],
   "source": []
  }
 ],
 "metadata": {
  "kernelspec": {
   "display_name": "Python 3",
   "language": "python",
   "name": "python3"
  },
  "language_info": {
   "codemirror_mode": {
    "name": "ipython",
    "version": 3
   },
   "file_extension": ".py",
   "mimetype": "text/x-python",
   "name": "python",
   "nbconvert_exporter": "python",
   "pygments_lexer": "ipython3",
   "version": "3.8.5"
  }
 },
 "nbformat": 4,
 "nbformat_minor": 4
}
