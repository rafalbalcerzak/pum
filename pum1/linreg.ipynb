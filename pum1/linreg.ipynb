{
 "cells": [
  {
   "cell_type": "code",
   "execution_count": 1,
   "metadata": {},
   "outputs": [],
   "source": [
    "\n",
    "from sklearn import datasets, linear_model, metrics\n",
    "import scipy\n",
    "import matplotlib.pyplot as plt\n",
    "import numpy as np"
   ]
  },
  {
   "cell_type": "code",
   "execution_count": 2,
   "metadata": {},
   "outputs": [],
   "source": [
    "seed = 244810\n",
    "mySet = datasets.make_regression(n_features=1,noise=16,n_samples=100, random_state=seed)\n"
   ]
  },
  {
   "cell_type": "code",
   "execution_count": 3,
   "metadata": {},
   "outputs": [
    {
     "data": {
      "text/plain": [
       "<matplotlib.collections.PathCollection at 0x23962ccc820>"
      ]
     },
     "execution_count": 3,
     "metadata": {},
     "output_type": "execute_result"
    },
    {
     "data": {
      "image/png": "[encoded data removed]",
      "text/plain": [
       "<Figure size 432x288 with 1 Axes>"
      ]
     },
     "metadata": {
      "needs_background": "light"
     },
     "output_type": "display_data"
    }
   ],
   "source": [
    "x = mySet[0]\n",
    "y = mySet[1]\n",
    "plt.scatter(x,y)"
   ]
  },
  {
   "cell_type": "code",
   "execution_count": 4,
   "metadata": {},
   "outputs": [],
   "source": [
    "from sklearn.model_selection import train_test_split\n",
    "\n",
    "X_train, X_test, y_train, y_test = train_test_split(x, y, test_size=0.2)"
   ]
  },
  {
   "cell_type": "code",
   "execution_count": 9,
   "metadata": {},
   "outputs": [
    {
     "data": {
      "text/plain": [
       "array([[-0.14784469],\n",
       "       [-0.56418836],\n",
       "       [-0.17052913],\n",
       "       [-0.01274732],\n",
       "       [ 1.11280203],\n",
       "       [ 0.11020834],\n",
       "       [ 2.01287619],\n",
       "       [-2.01079305],\n",
       "       [ 0.35242245],\n",
       "       [-0.19418333],\n",
       "       [ 0.09324176],\n",
       "       [ 2.07800412],\n",
       "       [ 3.110612  ],\n",
       "       [-0.43062915],\n",
       "       [-0.4383954 ],\n",
       "       [-0.60934738],\n",
       "       [ 0.28968037],\n",
       "       [ 0.48479054],\n",
       "       [-0.72497965],\n",
       "       [-0.46217498],\n",
       "       [-0.71786966],\n",
       "       [ 0.47604194],\n",
       "       [-0.93141709],\n",
       "       [-0.8764822 ],\n",
       "       [-0.50086472],\n",
       "       [-0.86953823],\n",
       "       [-0.49730917],\n",
       "       [ 1.05378278],\n",
       "       [ 0.56637346],\n",
       "       [-0.47510864],\n",
       "       [-0.49272907],\n",
       "       [-1.90294467],\n",
       "       [-0.72192823],\n",
       "       [ 0.90629948],\n",
       "       [ 0.7293432 ],\n",
       "       [ 0.40020608],\n",
       "       [ 0.62782341],\n",
       "       [-1.38370588],\n",
       "       [ 1.03999883],\n",
       "       [-0.15275052],\n",
       "       [ 1.18425672],\n",
       "       [ 0.39218485],\n",
       "       [-0.20353832],\n",
       "       [-0.27504012],\n",
       "       [ 1.07277179],\n",
       "       [-0.05040729],\n",
       "       [ 1.66759877],\n",
       "       [ 0.27394934],\n",
       "       [-0.65010205],\n",
       "       [-1.2073742 ],\n",
       "       [-0.79302936],\n",
       "       [ 0.80607422],\n",
       "       [-0.38613997],\n",
       "       [-0.86901966],\n",
       "       [ 0.52077058],\n",
       "       [ 0.72059195],\n",
       "       [ 0.75448333],\n",
       "       [ 0.45749547],\n",
       "       [ 0.54158395],\n",
       "       [-0.99524417],\n",
       "       [ 0.37931095],\n",
       "       [-1.33613466],\n",
       "       [ 0.39877842],\n",
       "       [ 1.49492397],\n",
       "       [ 0.01616738],\n",
       "       [-1.10786236],\n",
       "       [-0.17979231],\n",
       "       [-0.90071624],\n",
       "       [ 1.34716622],\n",
       "       [ 0.75560273],\n",
       "       [ 0.78790338],\n",
       "       [ 0.48455025],\n",
       "       [-0.65689431],\n",
       "       [-0.01119748],\n",
       "       [-0.34513437],\n",
       "       [-0.83147297],\n",
       "       [ 1.39170547],\n",
       "       [ 1.25412925],\n",
       "       [ 0.04022676],\n",
       "       [ 0.9428586 ]])"
      ]
     },
     "execution_count": 9,
     "metadata": {},
     "output_type": "execute_result"
    }
   ],
   "source": [
    "reg = linear_model.LinearRegression()\n",
    "reg.fit(X_train, y_train)\n",
    "X_train"
   ]
  },
  {
   "cell_type": "code",
   "execution_count": 6,
   "metadata": {},
   "outputs": [
    {
     "name": "stdout",
     "output_type": "stream",
     "text": [
      "a:  [53.39909248]\n",
      "b:  -0.39548912732459396\n",
      "Variance score: 0.9168448101003326\n"
     ]
    }
   ],
   "source": [
    "print('a: ', reg.coef_)\n",
    "print('b: ', reg.intercept_)\n",
    "print('Variance score: {}'.format(reg.score(X_test, y_test)))\n"
   ]
  },
  {
   "cell_type": "code",
   "execution_count": 7,
   "metadata": {},
   "outputs": [
    {
     "data": {
      "text/plain": [
       "[<matplotlib.lines.Line2D at 0x23964002250>]"
      ]
     },
     "execution_count": 7,
     "metadata": {},
     "output_type": "execute_result"
    },
    {
     "data": {
      "image/png": "[encoded data removed]",
      "text/plain": [
       "<Figure size 432x288 with 1 Axes>"
      ]
     },
     "metadata": {
      "needs_background": "light"
     },
     "output_type": "display_data"
    }
   ],
   "source": [
    "plt.scatter(X_train,y_train, color='red', alpha=0.5, marker='+')\n",
    "plt.scatter(X_test,y_test, color='green', alpha=0.5, marker='+')\n",
    "plt.plot([min(x),max(x)],[reg.predict([min(x)]),reg.predict([max(x)])])\n",
    "\n"
   ]
  },
  {
   "cell_type": "code",
   "execution_count": 8,
   "metadata": {},
   "outputs": [
    {
     "ename": "SyntaxError",
     "evalue": "invalid syntax (<ipython-input-8-bf2467ce3737>, line 1)",
     "output_type": "error",
     "traceback": [
      "\u001b[1;36m  File \u001b[1;32m\"<ipython-input-8-bf2467ce3737>\"\u001b[1;36m, line \u001b[1;32m1\u001b[0m\n\u001b[1;33m    scipy.optimize.minimize(,,method=\"Powell\")\u001b[0m\n\u001b[1;37m                            ^\u001b[0m\n\u001b[1;31mSyntaxError\u001b[0m\u001b[1;31m:\u001b[0m invalid syntax\n"
     ]
    }
   ],
   "source": [
    "scipy.optimize.minimize(,,method=\"Powell\")"
   ]
  },
  {
   "cell_type": "code",
   "execution_count": null,
   "metadata": {},
   "outputs": [],
   "source": []
  }
 ],
 "metadata": {
  "kernelspec": {
   "display_name": "Python 3",
   "language": "python",
   "name": "python3"
  },
  "language_info": {
   "codemirror_mode": {
    "name": "ipython",
    "version": 3
   },
   "file_extension": ".py",
   "mimetype": "text/x-python",
   "name": "python",
   "nbconvert_exporter": "python",
   "pygments_lexer": "ipython3",
   "version": "3.8.5"
  }
 },
 "nbformat": 4,
 "nbformat_minor": 4
}
