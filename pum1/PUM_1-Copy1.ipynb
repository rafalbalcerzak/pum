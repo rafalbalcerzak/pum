{
 "cells": [
  {
   "cell_type": "code",
   "execution_count": 1,
   "metadata": {},
   "outputs": [],
   "source": [
    "from sklearn import datasets, linear_model, metrics\n",
    "import scipy\n",
    "import matplotlib.pyplot as plt\n",
    "import numpy as np"
   ]
  },
  {
   "cell_type": "code",
   "execution_count": 2,
   "metadata": {},
   "outputs": [],
   "source": [
    "x,y  = datasets.make_regression(n_features=1,noise=16,n_samples=100, random_state=244810)"
   ]
  },
  {
   "cell_type": "code",
   "execution_count": 3,
   "metadata": {},
   "outputs": [],
   "source": [
    "from sklearn.model_selection import train_test_split\n",
    "\n",
    "X_train, X_test, y_train, y_test = train_test_split(x, y, test_size=0.2)"
   ]
  },
  {
   "cell_type": "code",
   "execution_count": 4,
   "metadata": {},
   "outputs": [],
   "source": [
    "Y = y\n",
    "X = np.concatenate((np.ones((len(x),1)), x), axis=1)"
   ]
  },
  {
   "cell_type": "markdown",
   "metadata": {},
   "source": [
    "### Metoda numeryczna"
   ]
  },
  {
   "cell_type": "markdown",
   "metadata": {},
   "source": [
    "### $$ L(θ) = \\frac{1}{N}(Y - X^T θ)^{T} (Y - X^T θ) $$"
   ]
  },
  {
   "cell_type": "code",
   "execution_count": 5,
   "metadata": {},
   "outputs": [],
   "source": [
    "def func(w, X, Y):\n",
    "    yxtans = np.subtract(np.reshape(Y,(len(Y),1)), np.matmul(X, np.transpose(np.reshape(w,(1,2)))))\n",
    "    yxtansyxtans = np.matmul(np.transpose(yxtans),yxtans)\n",
    "    return yxtansyxtans*(1/len(X_train))\n",
    "    "
   ]
  },
  {
   "cell_type": "code",
   "execution_count": 6,
   "metadata": {},
   "outputs": [],
   "source": [
    "ans_num = scipy.optimize.minimize(func,[1,1], args=(X,Y),method=\"Powell\")"
   ]
  },
  {
   "cell_type": "code",
   "execution_count": 7,
   "metadata": {},
   "outputs": [
    {
     "name": "stdout",
     "output_type": "stream",
     "text": [
      "[ 0.59277057 52.88411096]\n"
     ]
    }
   ],
   "source": [
    "print(ans_num.x[0])"
   ]
  },
  {
   "cell_type": "markdown",
   "metadata": {},
   "source": [
    "### Metoda analityczna"
   ]
  },
  {
   "cell_type": "markdown",
   "metadata": {},
   "source": [
    "### $$ θ = (X^T X)^{-1} X^T Y $$"
   ]
  },
  {
   "cell_type": "code",
   "execution_count": 8,
   "metadata": {},
   "outputs": [],
   "source": [
    "#rozbite na części\n",
    "#X^T Y\n",
    "xty = np.matmul(np.transpose(X),Y)\n",
    "#X^T X\n",
    "xtx = np.matmul(np.transpose(X),X)\n",
    "#(X^T X)^-1\n",
    "xtxinv =np.linalg.inv(xtx)\n",
    "#answer\n",
    "ans = np.matmul(xtxinv,xty)\n"
   ]
  },
  {
   "cell_type": "code",
   "execution_count": 9,
   "metadata": {},
   "outputs": [],
   "source": [
    "#jedna funkcja\n",
    "ans_ana = np.matmul(np.linalg.inv(np.matmul(np.transpose(X),X)),np.matmul(np.transpose(X),Y))"
   ]
  },
  {
   "cell_type": "code",
   "execution_count": 10,
   "metadata": {},
   "outputs": [
    {
     "name": "stdout",
     "output_type": "stream",
     "text": [
      "[ 0.59277057 52.88411096]\n"
     ]
    }
   ],
   "source": [
    "print(ans_ana)"
   ]
  },
  {
   "cell_type": "markdown",
   "metadata": {},
   "source": [
    "### Wykres"
   ]
  },
  {
   "cell_type": "code",
   "execution_count": 11,
   "metadata": {},
   "outputs": [
    {
     "data": {
      "text/plain": [
       "<matplotlib.legend.Legend at 0x2254ebccd00>"
      ]
     },
     "execution_count": 11,
     "metadata": {},
     "output_type": "execute_result"
    },
    {
     "data": {
      "image/png": "[encoded data removed]",
      "text/plain": [
       "<Figure size 864x432 with 1 Axes>"
      ]
     },
     "metadata": {
      "needs_background": "light"
     },
     "output_type": "display_data"
    }
   ],
   "source": [
    "plt.figure(figsize=(12,6))\n",
    "\n",
    "plt.scatter(X_train,y_train, color='red', alpha=0.5, marker='+', label=\"Train data\")\n",
    "plt.scatter(X_test,y_test, color='green', alpha=0.5, marker='+', label=\"Test data\")\n",
    "\n",
    "plt.plot([min(x),max(x)], [ans_num.x[0][1]*min(x)+ans_num.x[0][0] , ans_num.x[0][1]*max(x)+ans_num.x[0][0]], label=\"Numeryczna\", linestyle=\":\" )\n",
    "\n",
    "plt.plot([min(x),max(x)], [ans_ana[1]*min(x)+ans_ana[0] , ans_ana[1]*max(x)+ans_ana[0]], label=\"Analityczna\", linestyle=\":\" )\n",
    "\n",
    "plt.legend()\n",
    "\n"
   ]
  },
  {
   "cell_type": "markdown",
   "metadata": {},
   "source": [
    "#### MSE dla danych testowych"
   ]
  },
  {
   "cell_type": "code",
   "execution_count": 12,
   "metadata": {},
   "outputs": [],
   "source": [
    "y_pred_an = np.empty(len(y_test))\n",
    "\n",
    "for i in range(len(y_test)):\n",
    "    y_pred_an[i] = ans_ana[1]*X_test[i][0]+ans_ana[0]\n",
    "\n",
    "MSE_an = np.square(np.subtract(y_test, y_pred_an )).mean()"
   ]
  },
  {
   "cell_type": "code",
   "execution_count": 13,
   "metadata": {},
   "outputs": [],
   "source": [
    "y_pred_num = np.empty(len(y_test))\n",
    "\n",
    "for i in range(len(y_test)):\n",
    "    y_pred_num[i] = ans_num.x[0][1]*X_test[i][0]+ans_num.x[0][0]\n",
    "\n",
    "MSE_num = np.square(np.subtract(y_test, y_pred_num )).mean()"
   ]
  },
  {
   "cell_type": "code",
   "execution_count": 14,
   "metadata": {},
   "outputs": [
    {
     "name": "stdout",
     "output_type": "stream",
     "text": [
      "MSE dla metody numerycznej: 365.55480377127657\n",
      "MSE dla metody analitycznej: 365.5548037958898\n"
     ]
    }
   ],
   "source": [
    "print(\"MSE dla metody numerycznej:\",MSE_num)\n",
    "print(\"MSE dla metody analitycznej:\",MSE_an)"
   ]
  }
 ],
 "metadata": {
  "kernelspec": {
   "display_name": "Python 3",
   "language": "python",
   "name": "python3"
  },
  "language_info": {
   "codemirror_mode": {
    "name": "ipython",
    "version": 3
   },
   "file_extension": ".py",
   "mimetype": "text/x-python",
   "name": "python",
   "nbconvert_exporter": "python",
   "pygments_lexer": "ipython3",
   "version": "3.8.5"
  }
 },
 "nbformat": 4,
 "nbformat_minor": 4
}
