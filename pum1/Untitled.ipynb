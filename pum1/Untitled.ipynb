{
 "cells": [
  {
   "cell_type": "code",
   "execution_count": 1,
   "metadata": {},
   "outputs": [],
   "source": [
    "from sklearn import datasets, linear_model, metrics\n",
    "import scipy\n",
    "import matplotlib.pyplot as plt\n",
    "import numpy as np"
   ]
  },
  {
   "cell_type": "code",
   "execution_count": 2,
   "metadata": {},
   "outputs": [],
   "source": [
    "seed = 244810\n",
    "mySet = datasets.make_regression(n_features=1,noise=16,n_samples=100, random_state=seed)\n"
   ]
  },
  {
   "cell_type": "code",
   "execution_count": 3,
   "metadata": {},
   "outputs": [],
   "source": [
    "x = mySet[0]\n",
    "y = mySet[1]\n",
    "y = np.reshape(y, (len(y), 1))\n"
   ]
  },
  {
   "cell_type": "code",
   "execution_count": 4,
   "metadata": {},
   "outputs": [],
   "source": [
    "from sklearn.model_selection import train_test_split\n",
    "\n",
    "X_train, X_test, y_train, y_test = train_test_split(x, y, test_size=0.2)\n"
   ]
  },
  {
   "cell_type": "code",
   "execution_count": 5,
   "metadata": {},
   "outputs": [
    {
     "name": "stdout",
     "output_type": "stream",
     "text": [
      "53.09317919607425\n",
      "2.1821888278139383\n"
     ]
    }
   ],
   "source": [
    "x_mean = np.mean(X_train)\n",
    "y_mean = np.mean(y_train)\n",
    "\n",
    "xvar = (X_train - x_mean)**2\n",
    "xycov = (y_train - y_mean)*(X_train - x_mean)\n",
    "\n",
    "alfa = xycov.sum() / xvar.sum()\n",
    "beta = y_mean - (alfa*x_mean)\n",
    "print(alfa)\n",
    "print(beta)"
   ]
  },
  {
   "cell_type": "code",
   "execution_count": 6,
   "metadata": {},
   "outputs": [],
   "source": [
    "Y = y\n",
    "X = np.ones((len(x),1))\n",
    "X = np.concatenate((X,x),axis=1)\n",
    "\n",
    "A= np.ones((2,1))"
   ]
  },
  {
   "cell_type": "code",
   "execution_count": 7,
   "metadata": {},
   "outputs": [],
   "source": [
    "answer = np.matmul(np.linalg.inv(np.matmul(np.transpose(X),X)),np.matmul(np.transpose(X),Y))\n",
    "\n",
    "np.matmul(np.transpose(X),Y)  (xt x )^-1"
   ]
  },
  {
   "cell_type": "code",
   "execution_count": 8,
   "metadata": {},
   "outputs": [
    {
     "data": {
      "text/plain": [
       "[<matplotlib.lines.Line2D at 0x1fe6cf1a9d0>]"
      ]
     },
     "execution_count": 8,
     "metadata": {},
     "output_type": "execute_result"
    },
    {
     "data": {
      "image/png": "[encoded data removed]",
      "text/plain": [
       "<Figure size 432x288 with 1 Axes>"
      ]
     },
     "metadata": {
      "needs_background": "light"
     },
     "output_type": "display_data"
    }
   ],
   "source": [
    "x = mySet[0]\n",
    "y = mySet[1]\n",
    "plt.scatter(X_train,y_train, color='red', alpha=0.5, marker='+')\n",
    "plt.scatter(X_test,y_test, color='green', alpha=0.5, marker='+')\n",
    "plt.plot([min(x),max(x)],[alfa*min(x)+beta,alfa*max(x)+beta])\n",
    "plt.plot([min(x),max(x)], [answer[1]*min(x)+answer[0] , answer[1]*max(x)+answer[0]] )"
   ]
  },
  {
   "cell_type": "code",
   "execution_count": 13,
   "metadata": {},
   "outputs": [
    {
     "data": {
      "text/plain": [
       "array([[ 0.59277057],\n",
       "       [52.88411096]])"
      ]
     },
     "execution_count": 13,
     "metadata": {},
     "output_type": "execute_result"
    }
   ],
   "source": [
    "answer"
   ]
  },
  {
   "cell_type": "code",
   "execution_count": null,
   "metadata": {},
   "outputs": [],
   "source": []
  }
 ],
 "metadata": {
  "kernelspec": {
   "display_name": "Python 3",
   "language": "python",
   "name": "python3"
  },
  "language_info": {
   "codemirror_mode": {
    "name": "ipython",
    "version": 3
   },
   "file_extension": ".py",
   "mimetype": "text/x-python",
   "name": "python",
   "nbconvert_exporter": "python",
   "pygments_lexer": "ipython3",
   "version": "3.8.5"
  }
 },
 "nbformat": 4,
 "nbformat_minor": 4
}
