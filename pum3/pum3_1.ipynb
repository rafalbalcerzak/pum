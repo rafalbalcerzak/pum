{
 "cells": [
  {
   "cell_type": "code",
   "execution_count": 1,
   "id": "1e89463b",
   "metadata": {},
   "outputs": [],
   "source": [
    "from sklearn import datasets, linear_model, metrics, preprocessing\n",
    "from sklearn.preprocessing import PolynomialFeatures, OneHotEncoder\n",
    "import matplotlib.pyplot as plt\n",
    "import numpy as np\n",
    "import scipy\n",
    "import time\n",
    "from math import e\n",
    "import pandas as pd"
   ]
  },
  {
   "cell_type": "code",
   "execution_count": 2,
   "id": "26cc2486",
   "metadata": {},
   "outputs": [],
   "source": [
    "#ustawienia\n",
    "time_multiplicator = 100\n",
    "seed = 244810\n",
    "samples = 2410"
   ]
  },
  {
   "cell_type": "code",
   "execution_count": 3,
   "id": "76aa0f21",
   "metadata": {},
   "outputs": [],
   "source": [
    "XY,C  = datasets.make_classification(n_features=2,n_clusters_per_class=1,n_redundant=0,n_samples=samples, random_state=seed,  )"
   ]
  },
  {
   "cell_type": "code",
   "execution_count": 4,
   "id": "f2755e0e",
   "metadata": {},
   "outputs": [],
   "source": [
    "from sklearn.model_selection import train_test_split\n",
    "XY_train, XY_test, C_train, C_test = train_test_split(XY, C, test_size=0.2, random_state=0)"
   ]
  },
  {
   "cell_type": "code",
   "execution_count": 5,
   "id": "e3def985",
   "metadata": {},
   "outputs": [],
   "source": [
    "def standarize(arr):\n",
    "    for col in range(arr.shape[1]):\n",
    "        xmean = np.mean( arr[:,col])\n",
    "        xstd = np.std( arr[:,col])\n",
    "        arr[:,col] = (arr[:,col] - xmean)/xstd\n",
    "    return arr    \n",
    "    \n",
    "def normalize(arr):\n",
    "    for col in range(arr.shape[1]):\n",
    "        xmin = min( arr[:,col])\n",
    "        xmax = max( arr[:,col])\n",
    "        arr[:,col] = (arr[:,col] - xmin )/(xmax-xmin)\n",
    "    \n",
    "    return arr        \n",
    "    \n",
    "XY_train = normalize(XY_train)\n",
    "XY_test = normalize(XY_test)\n",
    "\n",
    "\n"
   ]
  },
  {
   "cell_type": "markdown",
   "id": "09b8cb52",
   "metadata": {},
   "source": [
    "# Sklearn"
   ]
  },
  {
   "cell_type": "code",
   "execution_count": 6,
   "id": "14d6b6b4",
   "metadata": {},
   "outputs": [],
   "source": [
    "sk_time = time.time()\n",
    "for i in range(time_multiplicator):\n",
    "    sk_log_ans= linear_model.LogisticRegression().fit(XY_train,C_train)\n",
    "sk_time = (time.time() - sk_time)/time_multiplicator \n"
   ]
  },
  {
   "cell_type": "code",
   "execution_count": 7,
   "id": "22bfe3cf",
   "metadata": {},
   "outputs": [],
   "source": [
    "sk_pred = sk_log_ans.predict(XY_test)"
   ]
  },
  {
   "cell_type": "markdown",
   "id": "ae4a747c",
   "metadata": {},
   "source": [
    "# Własna"
   ]
  },
  {
   "cell_type": "code",
   "execution_count": 8,
   "id": "60ee0556",
   "metadata": {},
   "outputs": [],
   "source": [
    "def sigmoid(x):\n",
    "    b=1\n",
    "    return 1/(1+np.exp(-x*b))"
   ]
  },
  {
   "cell_type": "code",
   "execution_count": 9,
   "id": "b4685d70",
   "metadata": {},
   "outputs": [],
   "source": [
    "def mse_cost(predicted, actual):\n",
    "    return np.mean((predicted - actual)**2)"
   ]
  },
  {
   "cell_type": "code",
   "execution_count": 10,
   "id": "ab53faa3",
   "metadata": {},
   "outputs": [],
   "source": [
    "class my_log_reg:\n",
    "    def __init__(self, learning_rate: float = 0.5, iterations: int = 100, error: float = 1e-5):\n",
    "        self.learning_rate=learning_rate\n",
    "        self.iterations = iterations\n",
    "        self.error = error\n",
    "        self.coef_= None\n",
    "        self.intrecept_ = None\n",
    "        self.costs = []\n",
    "        self.done_iter = 0\n",
    "    \n",
    "    def fit(self, XY,C):\n",
    "        if self.coef_ is None:\n",
    "            self.coef_ = np.random.normal(loc = 1, scale=0.15, size=(1, XY.shape[1]))\n",
    "            self.intrecept_ = np.random.normal(loc = 1, scale=0.15, size=1)\n",
    "            \n",
    "        C = C.reshape(-1,1)\n",
    "        n=XY.shape[0]\n",
    "        \n",
    "        for i in range(self.iterations):\n",
    "            preds = sigmoid(XY.dot(self.coef_.T) + self.intrecept_)\n",
    "            cost = mse_cost(preds, C)\n",
    "            \n",
    "            dW = 1/n * np.dot((preds-C).T,XY)\n",
    "            dB = 1/n *np.sum(preds -C)\n",
    "        \n",
    "            self.coef_ = self.coef_ - self.learning_rate * dW\n",
    "            self.intrecept_ = self.intrecept_ - self.learning_rate * dB\n",
    "            \n",
    "            self.costs.append(cost)\n",
    "            self.done_iter = i\n",
    "            \n",
    "            if len(self.costs) >= 2 and self.costs[-2] - self.costs[-1] < self.error:\n",
    "                break\n",
    "                \n",
    "        return self\n",
    "        \n",
    "    def decision(self, XY):\n",
    "        return sigmoid(XY.dot(self.coef_.T)+self.intrecept_)\n",
    "    \n",
    "    def predict(self, XY):\n",
    "        return np.where(self.decision(XY) >= 0.5, 1, 0)\n",
    "    "
   ]
  },
  {
   "cell_type": "code",
   "execution_count": 11,
   "id": "13066725",
   "metadata": {},
   "outputs": [],
   "source": [
    "my_time = time.time()\n",
    "for i in range(time_multiplicator):\n",
    "    my_model = my_log_reg(learning_rate=1, iterations= 100, error= 2e-4)\n",
    "    my_model.fit(XY_train, C_train)\n",
    "\n",
    "my_time = (time.time() - my_time)/time_multiplicator "
   ]
  },
  {
   "cell_type": "code",
   "execution_count": 12,
   "id": "cceee980",
   "metadata": {},
   "outputs": [],
   "source": [
    "my_pred = my_model.predict(XY_test)"
   ]
  },
  {
   "cell_type": "code",
   "execution_count": 13,
   "id": "419de45f",
   "metadata": {},
   "outputs": [
    {
     "data": {
      "text/plain": [
       "[<matplotlib.lines.Line2D at 0x1db939af5e0>]"
      ]
     },
     "execution_count": 13,
     "metadata": {},
     "output_type": "execute_result"
    },
    {
     "data": {
      "image/png": "[encoded data removed]",
      "text/plain": [
       "<Figure size 432x288 with 1 Axes>"
      ]
     },
     "metadata": {
      "needs_background": "light"
     },
     "output_type": "display_data"
    }
   ],
   "source": [
    "plt.plot(my_model.costs)"
   ]
  },
  {
   "cell_type": "markdown",
   "id": "7829cf2d",
   "metadata": {},
   "source": [
    "\n",
    "# Porównanie"
   ]
  },
  {
   "cell_type": "code",
   "execution_count": 14,
   "id": "ac965312",
   "metadata": {},
   "outputs": [
    {
     "data": {
      "text/plain": [
       "<matplotlib.colorbar.Colorbar at 0x1db93ab54f0>"
      ]
     },
     "execution_count": 14,
     "metadata": {},
     "output_type": "execute_result"
    },
    {
     "data": {
      "image/png": "[encoded data removed]",
      "text/plain": [
       "<Figure size 864x432 with 3 Axes>"
      ]
     },
     "metadata": {
      "needs_background": "light"
     },
     "output_type": "display_data"
    }
   ],
   "source": [
    "fig, (ax1, ax2) = plt.subplots(1, 2,figsize=(12,6))\n",
    "\n",
    "sk_cm = metrics.confusion_matrix(C_test, sk_pred)\n",
    "sk_disp = metrics.ConfusionMatrixDisplay(confusion_matrix=sk_cm)\n",
    "sk_disp.plot(ax=ax1 ,cmap='plasma')\n",
    "sk_disp.ax_.set_title('Sklearn')\n",
    "sk_disp.im_.colorbar.remove()\n",
    "\n",
    "my_cm = metrics.confusion_matrix(C_test, my_pred)\n",
    "my_disp = metrics.ConfusionMatrixDisplay(confusion_matrix=my_cm)\n",
    "my_disp.plot(ax=ax2 ,cmap='plasma')\n",
    "my_disp.ax_.set_title('Własna')\n",
    "my_disp.im_.colorbar.remove()\n",
    "my_disp.ax_.set_ylabel('')\n",
    "\n",
    "\n",
    "fig.colorbar(sk_disp.im_, ax=(ax1, ax2))"
   ]
  },
  {
   "cell_type": "code",
   "execution_count": 15,
   "id": "53702fed",
   "metadata": {},
   "outputs": [
    {
     "data": {
      "text/plain": [
       "<matplotlib.collections.PathCollection at 0x1db93c29a90>"
      ]
     },
     "execution_count": 15,
     "metadata": {},
     "output_type": "execute_result"
    },
    {
     "data": {
      "image/png": "[encoded data removed]",
      "text/plain": [
       "<Figure size 864x432 with 2 Axes>"
      ]
     },
     "metadata": {
      "needs_background": "light"
     },
     "output_type": "display_data"
    }
   ],
   "source": [
    "fig, (ax1, ax2) = plt.subplots(1, 2,figsize=(12,6))\n",
    "\n",
    "mesh = np.meshgrid(np.arange(0, 1.1, 0.01), np.arange(0, 1.1, 0.01))[0]\n",
    "sk_predict = sk_log_ans.predict(np.c_[mesh.ravel(), mesh.T.ravel()]).reshape(mesh.shape)\n",
    "\n",
    "ax1.set_title(\"Sklearn\")\n",
    "ax1.contourf(mesh, mesh.T, sk_predict, alpha=0.2)\n",
    "ax1.scatter(XY_test[:, 0], XY_test[:, 1], c=C_test+1, marker=\"+\", alpha=0.5)\n",
    "\n",
    "my_predict = np.array(my_model.predict(np.c_[mesh.ravel(), mesh.T.ravel()])).reshape(mesh.shape)\n",
    "ax2.set_title(\"Własna implementacja\")\n",
    "ax2.contourf(mesh, mesh.T, my_predict, alpha=0.2)\n",
    "ax2.scatter(XY_test[:, 0], XY_test[:, 1], c=C_test+1, marker=\"+\", alpha=0.5)\n"
   ]
  },
  {
   "cell_type": "code",
   "execution_count": 16,
   "id": "91ea8d94",
   "metadata": {},
   "outputs": [
    {
     "data": {
      "text/plain": [
       "<sklearn.metrics._plot.roc_curve.RocCurveDisplay at 0x1db93cbba60>"
      ]
     },
     "execution_count": 16,
     "metadata": {},
     "output_type": "execute_result"
    },
    {
     "data": {
      "image/png": "[encoded data removed]",
      "text/plain": [
       "<Figure size 864x432 with 2 Axes>"
      ]
     },
     "metadata": {
      "needs_background": "light"
     },
     "output_type": "display_data"
    }
   ],
   "source": [
    "fig, (ax1, ax2) = plt.subplots(1, 2,figsize=(12,6))\n",
    "\n",
    "fpr, tpr, thresholds = metrics.roc_curve(C_test, sk_log_ans.decision_function(XY_test))\n",
    "roc_auc = metrics.auc(fpr, tpr)\n",
    "display = metrics.RocCurveDisplay(fpr=fpr, tpr=tpr, roc_auc=roc_auc, estimator_name='Sklearn')\n",
    "display.plot(ax=ax1)\n",
    "\n",
    "fpr, tpr, thresholds = metrics.roc_curve(C_test, my_model.decision(XY_test))\n",
    "roc_auc = metrics.auc(fpr, tpr)\n",
    "display = metrics.RocCurveDisplay(fpr=fpr, tpr=tpr, roc_auc=roc_auc, estimator_name='Sklearn')\n",
    "display.plot(ax=ax2)"
   ]
  },
  {
   "cell_type": "code",
   "execution_count": 17,
   "id": "824e2df8",
   "metadata": {},
   "outputs": [
    {
     "name": "stdout",
     "output_type": "stream",
     "text": [
      "Sklearn czułość:  0.9176954732510288\n",
      "Wlasny  czułość:  0.8911290322580645\n",
      "\n",
      "Sklearn specyficzność:  0.4943310657596372\n",
      "Wlasny  specyficzność:  0.48842592592592593\n",
      "\n",
      "Sklearn skuteczność:  0.9149377593360996\n",
      "Wlasny  skuteczność:  0.8962655601659751\n",
      "\n",
      "Sklearn czas: 0.002871\n",
      "Wlasny  czas: 0.006561\n"
     ]
    }
   ],
   "source": [
    "print(\"Sklearn czułość: \",sk_cm[0][0]/(sk_cm[0][0]+sk_cm[1][0]))\n",
    "print(\"Wlasny  czułość: \",my_cm[0][0]/(my_cm[0][0]+my_cm[1][0]))\n",
    "print()\n",
    "print(\"Sklearn specyficzność: \",sk_cm[1][1]/(sk_cm[0][0]+sk_cm[1][1]))\n",
    "print(\"Wlasny  specyficzność: \",my_cm[1][1]/(my_cm[0][0]+my_cm[1][1]))\n",
    "print()\n",
    "print(\"Sklearn skuteczność: \",metrics.accuracy_score(sk_pred, C_test))\n",
    "print(\"Wlasny  skuteczność: \",metrics.accuracy_score(my_pred, C_test))\n",
    "print()\n",
    "print(\"Sklearn czas: {:f}\".format(sk_time))\n",
    "print(\"Wlasny  czas: {:f}\".format(my_time))"
   ]
  },
  {
   "cell_type": "markdown",
   "id": "250ed5fc",
   "metadata": {},
   "source": [
    "## Wnioski\n",
    "- dobierając ilość iteracji, wielkość kroku uczącego oraz wartość błędu możemy uzyskać zbliżone parametry modelu\n",
    "- Zmiana powyższych parametrów wpłynie na czas uczenia modelu\n",
    "- Parametru modalu można dobrać w taki sposób aby uczuł się szybciej niż sklearn"
   ]
  },
  {
   "cell_type": "markdown",
   "id": "7b684268",
   "metadata": {},
   "source": [
    "### Porównanie dla moons"
   ]
  },
  {
   "cell_type": "code",
   "execution_count": 18,
   "id": "f744c009",
   "metadata": {},
   "outputs": [],
   "source": [
    "moons, moons_c = datasets.make_moons(n_samples=samples, noise = 0.1, random_state=seed)\n",
    "\n",
    "M_train, M_test, mc_train, mc_test = train_test_split(moons, moons_c, test_size=0.2, random_state=0)\n",
    "\n",
    "M_train = standarize(M_train)\n",
    "M_test = standarize(M_test)\n",
    "\n"
   ]
  },
  {
   "cell_type": "code",
   "execution_count": 19,
   "id": "b4560e51",
   "metadata": {},
   "outputs": [],
   "source": [
    "M_train = PolynomialFeatures(degree=3, include_bias=False).fit_transform(M_train)\n",
    "M_test = PolynomialFeatures(degree=3, include_bias=False).fit_transform(M_test)"
   ]
  },
  {
   "cell_type": "code",
   "execution_count": 20,
   "id": "7772630f",
   "metadata": {},
   "outputs": [],
   "source": [
    "msk_time = time.time()\n",
    "for i in range(time_multiplicator):\n",
    "    msk_model= linear_model.LogisticRegression()\n",
    "    msk_model.fit(M_train,mc_train)\n",
    "msk_time = (time.time() - msk_time)/time_multiplicator \n",
    "\n",
    "msk_pred = msk_model.predict(M_test)"
   ]
  },
  {
   "cell_type": "code",
   "execution_count": 21,
   "id": "e4bc5432",
   "metadata": {},
   "outputs": [],
   "source": [
    "mmy_time = time.time()\n",
    "for i in range(time_multiplicator):\n",
    "    mmy_model = my_log_reg(learning_rate=0.5, iterations= 200, error= 2e-5)\n",
    "    mmy_model.fit(M_train, mc_train)\n",
    "\n",
    "mmy_time = (time.time() - mmy_time)/time_multiplicator \n",
    "\n",
    "mmy_pred = mmy_model.predict(M_test)"
   ]
  },
  {
   "cell_type": "code",
   "execution_count": 22,
   "id": "9b8d6ab8",
   "metadata": {},
   "outputs": [],
   "source": [
    "xmin = np.min(M_test[:,0])\n",
    "xmax = np.max(M_test[:,0])\n",
    "ymin = np.min(M_test[:,1])\n",
    "ymax = np.max(M_test[:,1])"
   ]
  },
  {
   "cell_type": "code",
   "execution_count": 23,
   "id": "538b983c",
   "metadata": {},
   "outputs": [
    {
     "data": {
      "text/plain": [
       "<matplotlib.collections.PathCollection at 0x1db93e5bd30>"
      ]
     },
     "execution_count": 23,
     "metadata": {},
     "output_type": "execute_result"
    },
    {
     "data": {
      "image/png": "[encoded data removed]",
      "text/plain": [
       "<Figure size 864x432 with 2 Axes>"
      ]
     },
     "metadata": {
      "needs_background": "light"
     },
     "output_type": "display_data"
    }
   ],
   "source": [
    "xx, yy = np.meshgrid(np.arange(xmin,xmax+0.25,0.01),np.arange(ymin,ymax+0.25,0.01))\n",
    "mesh = np.c_[xx.ravel(), yy.ravel()]\n",
    "\n",
    "mesh = PolynomialFeatures(degree=3, include_bias=False).fit_transform(mesh)\n",
    "\n",
    "fig, (ax1, ax2) = plt.subplots(1, 2,figsize=(12,6))\n",
    "\n",
    "sk_ans = msk_model.predict(mesh).reshape(xx.shape)\n",
    "ax1.set_title(\"Sklearn\")\n",
    "ax1.contourf(xx,yy,sk_ans, alpha=0.2)\n",
    "ax1.scatter(M_test[:,0],M_test[:,1], c=mc_test,marker=\"+\", alpha=0.5)\n",
    "\n",
    "my_ans = mmy_model.predict(mesh).reshape(xx.shape)\n",
    "ax2.set_title(\"Własna implementacja\")\n",
    "ax2.contourf(xx,yy,my_ans, alpha=0.2)\n",
    "ax2.scatter(M_test[:,0],M_test[:,1], c=mc_test,marker=\"+\", alpha=0.5)"
   ]
  },
  {
   "cell_type": "code",
   "execution_count": 24,
   "id": "d449e31f",
   "metadata": {},
   "outputs": [
    {
     "data": {
      "text/plain": [
       "<matplotlib.colorbar.Colorbar at 0x1db9461e640>"
      ]
     },
     "execution_count": 24,
     "metadata": {},
     "output_type": "execute_result"
    },
    {
     "data": {
      "image/png": "[encoded data removed]",
      "text/plain": [
       "<Figure size 864x432 with 3 Axes>"
      ]
     },
     "metadata": {
      "needs_background": "light"
     },
     "output_type": "display_data"
    }
   ],
   "source": [
    "fig, (ax1, ax2) = plt.subplots(1, 2,figsize=(12,6))\n",
    "\n",
    "msk_cm = metrics.confusion_matrix(mc_test, msk_pred)\n",
    "msk_disp = metrics.ConfusionMatrixDisplay(confusion_matrix=msk_cm)\n",
    "msk_disp.plot(ax=ax1 ,cmap='plasma')\n",
    "msk_disp.ax_.set_title('Sklearn')\n",
    "msk_disp.im_.colorbar.remove()\n",
    "\n",
    "mmy_cm = metrics.confusion_matrix(mc_test, mmy_pred)\n",
    "mmy_disp = metrics.ConfusionMatrixDisplay(confusion_matrix=mmy_cm)\n",
    "mmy_disp.plot(ax=ax2 ,cmap='plasma')\n",
    "mmy_disp.ax_.set_title('Własna')\n",
    "mmy_disp.im_.colorbar.remove()\n",
    "mmy_disp.ax_.set_ylabel('')\n",
    "\n",
    "\n",
    "fig.colorbar(sk_disp.im_, ax=(ax1, ax2))"
   ]
  },
  {
   "cell_type": "code",
   "execution_count": 25,
   "id": "c5e75b7a",
   "metadata": {},
   "outputs": [
    {
     "data": {
      "text/plain": [
       "<sklearn.metrics._plot.roc_curve.RocCurveDisplay at 0x1db94651970>"
      ]
     },
     "execution_count": 25,
     "metadata": {},
     "output_type": "execute_result"
    },
    {
     "data": {
      "image/png": "[encoded data removed]",
      "text/plain": [
       "<Figure size 864x432 with 2 Axes>"
      ]
     },
     "metadata": {
      "needs_background": "light"
     },
     "output_type": "display_data"
    }
   ],
   "source": [
    "fig, (ax1, ax2) = plt.subplots(1, 2,figsize=(12,6))\n",
    "\n",
    "fpr, tpr, thresholds = metrics.roc_curve(mc_test, msk_model.decision_function(M_test))\n",
    "roc_auc = metrics.auc(fpr, tpr)\n",
    "display = metrics.RocCurveDisplay(fpr=fpr, tpr=tpr, roc_auc=roc_auc, estimator_name='Sklearn')\n",
    "display.plot(ax=ax1)\n",
    "\n",
    "fpr, tpr, thresholds = metrics.roc_curve(mc_test, mmy_model.decision(M_test))\n",
    "roc_auc = metrics.auc(fpr, tpr)\n",
    "display = metrics.RocCurveDisplay(fpr=fpr, tpr=tpr, roc_auc=roc_auc, estimator_name='Własna')\n",
    "display.plot(ax=ax2)"
   ]
  },
  {
   "cell_type": "code",
   "execution_count": 26,
   "id": "10398205",
   "metadata": {},
   "outputs": [
    {
     "name": "stdout",
     "output_type": "stream",
     "text": [
      "Sklearn czułość:  1.0\n",
      "Wlasny  czułość:  0.9873949579831933\n",
      "\n",
      "Sklearn specyficzność:  0.5020746887966805\n",
      "Wlasny  specyficzność:  0.5042194092827004\n",
      "\n",
      "Sklearn skuteczność:  1.0\n",
      "Wlasny  skuteczność:  0.983402489626556\n",
      "\n",
      "Sklearn czas: 0.008922\n",
      "Wlasny  czas: 0.035158\n"
     ]
    }
   ],
   "source": [
    "print(\"Sklearn czułość: \",msk_cm[0][0]/(msk_cm[0][0]+msk_cm[1][0]))\n",
    "print(\"Wlasny  czułość: \",mmy_cm[0][0]/(mmy_cm[0][0]+mmy_cm[1][0]))\n",
    "print()\n",
    "print(\"Sklearn specyficzność: \",msk_cm[1][1]/(msk_cm[0][0]+msk_cm[1][1]))\n",
    "print(\"Wlasny  specyficzność: \",mmy_cm[1][1]/(mmy_cm[0][0]+mmy_cm[1][1]))\n",
    "print()\n",
    "print(\"Sklearn skuteczność: \",metrics.accuracy_score(msk_pred, mc_test))\n",
    "print(\"Wlasny  skuteczność: \",metrics.accuracy_score(mmy_pred, mc_test))\n",
    "print()\n",
    "print(\"Sklearn czas: {:f}\".format(msk_time))\n",
    "print(\"Wlasny  czas: {:f}\".format(mmy_time))"
   ]
  },
  {
   "cell_type": "markdown",
   "id": "a593952e",
   "metadata": {},
   "source": [
    "# Rain"
   ]
  },
  {
   "cell_type": "code",
   "execution_count": 27,
   "id": "77ead48b",
   "metadata": {},
   "outputs": [],
   "source": [
    "import warnings\n",
    "warnings.filterwarnings('ignore')\n",
    "\n",
    "rain = pd.read_csv('weatherAUS.csv', delimiter = ',')\n",
    "rain = rain.loc[:, rain.isin(['NaN', np.NaN]).mean() <0.3]\n"
   ]
  },
  {
   "cell_type": "code",
   "execution_count": 28,
   "id": "a9fbde1e",
   "metadata": {},
   "outputs": [],
   "source": [
    "#uzupełnienie brakujących wartości liczbowych\n",
    "for name, med in rain.median().items():\n",
    "    rain[name] = rain[name].fillna(med, )\n"
   ]
  },
  {
   "cell_type": "code",
   "execution_count": 29,
   "id": "e9ddfc3c",
   "metadata": {},
   "outputs": [],
   "source": [
    "#uzupełnienie brakujących wartości kategorycznych\n",
    "for name in ['WindGustDir','WindDir9am','WindDir3pm','RainToday']:\n",
    "    rain[name] = rain[name].fillna(rain[name].mode()[0])\n"
   ]
  },
  {
   "cell_type": "code",
   "execution_count": 30,
   "id": "dcad6253",
   "metadata": {},
   "outputs": [],
   "source": [
    "feature_list = ['MinTemp',\n",
    "                 'MaxTemp',\n",
    "                 'Rainfall',\n",
    "                 'WindGustSpeed',\n",
    "                 'WindSpeed9am',\n",
    "                 'WindSpeed3pm',\n",
    "                 'Humidity9am',\n",
    "                 'Humidity3pm',\n",
    "                 'Pressure9am',\n",
    "                 'Pressure3pm',\n",
    "                 'Temp9am',\n",
    "                 'Temp3pm',\n",
    "                 ]"
   ]
  },
  {
   "cell_type": "code",
   "execution_count": 31,
   "id": "8e72c491",
   "metadata": {},
   "outputs": [],
   "source": [
    "#winsoryzacja\n",
    "def clip_series(s, lower, upper):\n",
    "    clipped = s.clip(lower=s.quantile(lower), upper=s.quantile(upper), axis=0)\n",
    "    return clipped\n",
    "\n",
    "for f in feature_list:\n",
    "    rain[f] = clip_series(rain[f], 0.25, 0.75)"
   ]
  },
  {
   "cell_type": "code",
   "execution_count": 32,
   "id": "1fe8fca7",
   "metadata": {},
   "outputs": [],
   "source": [
    "#onehot\n",
    "enc = OneHotEncoder(handle_unknown='ignore')\n",
    "encoded = pd.DataFrame(enc.fit_transform(rain[['WindGustDir','WindDir9am','WindDir3pm','RainToday']]).toarray())\n",
    "rain = rain.join(encoded)"
   ]
  },
  {
   "cell_type": "code",
   "execution_count": 33,
   "id": "47d29392",
   "metadata": {},
   "outputs": [],
   "source": [
    "rain.drop(['WindGustDir','WindDir9am','WindDir3pm'],inplace=True, axis=1)\n",
    "rain = rain.dropna()"
   ]
  },
  {
   "cell_type": "code",
   "execution_count": 34,
   "id": "a6e9270c",
   "metadata": {},
   "outputs": [],
   "source": [
    "#enc.get_feature_names()"
   ]
  },
  {
   "cell_type": "code",
   "execution_count": 35,
   "id": "537b3a54",
   "metadata": {},
   "outputs": [],
   "source": [
    "#rozbicie daty\n",
    "rain['Date'] = pd.to_datetime(rain['Date'])\n",
    "rain['Day'] = rain['Date'].dt.day\n",
    "rain['Month'] = rain['Date'].dt.month\n",
    "rain['Year'] = rain['Date'].dt.year\n",
    "rain.drop(['Date'], axis=1,inplace=True)"
   ]
  },
  {
   "cell_type": "code",
   "execution_count": 36,
   "id": "72f5f976",
   "metadata": {},
   "outputs": [
    {
     "name": "stdout",
     "output_type": "stream",
     "text": [
      "ilość brakujących wartości:  0\n",
      "0         0\n",
      "1         0\n",
      "2         0\n",
      "3         0\n",
      "4         0\n",
      "         ..\n",
      "145454    0\n",
      "145455    0\n",
      "145456    0\n",
      "145457    0\n",
      "145458    0\n",
      "Length: 142193, dtype: int64\n"
     ]
    }
   ],
   "source": [
    "#print(\"ilość brakujących wartości: \",rain.isnull().sum(axis = 1).sum())\n",
    "#print(rain.isnull().sum(axis = 1))"
   ]
  },
  {
   "cell_type": "code",
   "execution_count": 37,
   "id": "b8a3a189",
   "metadata": {},
   "outputs": [],
   "source": [
    "class region:\n",
    "    def __init__(self):\n",
    "        self.xtrain = None\n",
    "        self.xtest = None\n",
    "        self.ytrain = None\n",
    "        self.ytest = None\n",
    "        self.data = None\n",
    "        self.name = None\n",
    "        self.sk_model = None\n",
    "        self.sk_score = 0\n",
    "        self.my_model = None\n",
    "        self.my_score = 0\n",
    "        self.numbee = None\n",
    "    \n",
    "    def add_data(self, data, number):\n",
    "        self.data = data\n",
    "        self.number = number\n",
    "        self.name = self.data['Location'].unique()[0]\n",
    "        return self\n",
    "        \n",
    "    def split(self):\n",
    "        willRain = self.data['RainTomorrow']\n",
    "        self.data.drop(['RainTomorrow'], axis=1,inplace=True)\n",
    "        self.data.drop(['Location'], axis=1,inplace=True)\n",
    "        self.data['RainToday'] = self.data['RainToday'].replace(['Yes','No'],[1,0])\n",
    "        willRain = willRain.replace(['Yes','No'],[1,0])\n",
    "        \n",
    "        self.xtrain, self.xtest, self.ytrain, self.ytest = train_test_split(self.data, willRain,test_size=0.2, random_state=0)\n",
    "        self.normalize()\n",
    "        return self\n",
    "        \n",
    "    def make_sk_model(self):\n",
    "        try:\n",
    "            self.sk_model = linear_model.LogisticRegression().fit(self.xtrain.to_numpy(), self.ytrain.to_numpy())\n",
    "            self.sk_score = self.sk_model.score(self.xtest.to_numpy(), self.ytest)\n",
    "        except ValueError:\n",
    "            pass\n",
    "        return self\n",
    "    \n",
    "    def make_my_model(self):\n",
    "        try:\n",
    "            self.my_model = my_log_reg(learning_rate=0.5, iterations= 100, error= 2e-5).fit(self.xtrain.to_numpy(), self.ytrain.to_numpy())\n",
    "            my_pred = self.my_model.predict(self.xtest.to_numpy())\n",
    "            #mcm = metrics.confusion_matrix(self.ytest, my_pred)\n",
    "            self.my_score = metrics.accuracy_score(my_pred, self.ytest)\n",
    "        except ValueError:\n",
    "            pass\n",
    "        return self\n",
    "    \n",
    "    def normalize(self):\n",
    "        self.xtrain = (self.xtrain - self.xtrain.min()) / (self.xtrain.max() - self.xtrain.min())\n",
    "\n",
    "        "
   ]
  },
  {
   "cell_type": "code",
   "execution_count": 38,
   "id": "696edc25",
   "metadata": {},
   "outputs": [],
   "source": [
    "regions = [region() for i in range(rain['Location'].value_counts().count())]\n",
    "\n",
    "i =0\n",
    "for loc in rain['Location'].unique():\n",
    "    regions[i].add_data(rain.where(rain['Location'] == loc).dropna(),i)\n",
    "    regions[i].split()\n",
    "    regions[i].make_sk_model()\n",
    "    #regions[i].make_my_model()\n",
    "    i+=1\n"
   ]
  },
  {
   "cell_type": "code",
   "execution_count": 39,
   "id": "ff5abdd6",
   "metadata": {},
   "outputs": [
    {
     "name": "stdout",
     "output_type": "stream",
     "text": [
      "Albury               79.4%\n",
      "BadgerysCreek        79.9%\n",
      "Cobar                88.5%\n",
      "CoffsHarbour         68.9%\n",
      "Moree                86.0%\n",
      "Newcastle            0.0%\n",
      "NorahHead            28.3%\n",
      "NorfolkIsland        69.0%\n",
      "Penrith              0.0%\n",
      "Richmond             19.1%\n",
      "Sydney               23.7%\n",
      "SydneyAirport        72.5%\n",
      "WaggaWagga           79.7%\n",
      "Williamtown          69.3%\n",
      "Wollongong           76.9%\n",
      "Canberra             83.0%\n",
      "Tuggeranong          80.8%\n",
      "MountGinini          0.0%\n",
      "Ballarat             75.2%\n",
      "Bendigo              82.4%\n",
      "Sale                 79.7%\n",
      "MelbourneAirport     78.6%\n",
      "Melbourne            77.4%\n",
      "Mildura              89.5%\n",
      "Nhil                 86.6%\n",
      "Portland             63.3%\n",
      "Watsonia             75.5%\n",
      "Dartmoor             67.1%\n",
      "Brisbane             84.2%\n",
      "Cairns               0.0%\n",
      "GoldCoast            74.2%\n",
      "Townsville           81.9%\n",
      "Adelaide             78.2%\n",
      "MountGambier         66.7%\n",
      "Nuriootpa            78.7%\n",
      "Woomera              94.8%\n",
      "Albany               0.0%\n",
      "Witchcliffe          68.9%\n",
      "PearceRAAF           82.5%\n",
      "PerthAirport         79.6%\n",
      "Perth                79.5%\n",
      "SalmonGums           0.0%\n",
      "Walpole              65.1%\n",
      "Hobart               75.2%\n",
      "Launceston           77.7%\n",
      "AliceSprings         93.4%\n",
      "Darwin               72.1%\n",
      "Katherine            81.7%\n",
      "Uluru                7.9%\n",
      "\n",
      "Najlepszy region:  Woomera 0.9481605351170569 [35]\n"
     ]
    }
   ],
   "source": [
    "[print(f'{reg.name:20} {reg.sk_score:.1%}') for reg in regions]\n",
    "print()\n",
    "\n",
    "scores = []\n",
    "[scores.append([reg.number, reg.sk_score]) for reg in regions]\n",
    "scores = np.array(scores)\n",
    "best = np.where(scores == np.amax(scores, axis=0)[1])\n",
    "\n",
    "print('Najlepszy region: ',regions[int(best[0])].name,regions[int(best[0])].sk_score,best[0])\n"
   ]
  },
  {
   "cell_type": "code",
   "execution_count": 40,
   "id": "abb0af6e",
   "metadata": {},
   "outputs": [
    {
     "data": {
      "text/plain": [
       "0.9481605351170569"
      ]
     },
     "execution_count": 40,
     "metadata": {},
     "output_type": "execute_result"
    }
   ],
   "source": [
    "regions[35].make_my_model()\n",
    "regions[35].my_score"
   ]
  },
  {
   "cell_type": "markdown",
   "id": "82f9a5ad",
   "metadata": {},
   "source": [
    "## Porównanie własnej implementacji oraz sklearn"
   ]
  },
  {
   "cell_type": "code",
   "execution_count": 41,
   "id": "bf916ea3",
   "metadata": {},
   "outputs": [
    {
     "name": "stdout",
     "output_type": "stream",
     "text": [
      "Własna:  94.8%\n",
      "Sklearn: 94.8%\n"
     ]
    }
   ],
   "source": [
    "print(f'Własna:  {regions[35].sk_score:.1%}')\n",
    "print(f'Sklearn: {regions[35].my_score:.1%}')"
   ]
  },
  {
   "cell_type": "raw",
   "id": "d7a63288",
   "metadata": {},
   "source": [
    "for reg in regions:\n",
    "    print(f'{reg.name:20} {reg.sk_score:.1%}')\n",
    "    print(f'{reg.my_score:26.1%}')"
   ]
  },
  {
   "cell_type": "code",
   "execution_count": 42,
   "id": "2abdd4aa",
   "metadata": {},
   "outputs": [],
   "source": [
    "allxtest = regions[0].xtest.to_numpy()\n",
    "allytest = regions[0].ytest.to_numpy()\n",
    "for i in range(len(regions)-1):\n",
    "    allxtest = np.vstack((allxtest,regions[i+1].xtest.to_numpy()))\n",
    "    allytest = np.hstack((allytest,regions[i+1].ytest.to_numpy()))\n",
    "\n"
   ]
  },
  {
   "cell_type": "code",
   "execution_count": null,
   "id": "dcf374fc",
   "metadata": {},
   "outputs": [],
   "source": []
  },
  {
   "cell_type": "code",
   "execution_count": 43,
   "id": "b95fffcb",
   "metadata": {},
   "outputs": [],
   "source": [
    "pred_kraj = regions[35].sk_model.predict(allxtest)\n",
    "pred_kraj_sa = regions[11].sk_model.predict(allxtest)"
   ]
  },
  {
   "cell_type": "code",
   "execution_count": 44,
   "id": "25e9206e",
   "metadata": {},
   "outputs": [
    {
     "name": "stdout",
     "output_type": "stream",
     "text": [
      "Skuteczność dla całego kraju, model dla regoinu Woomera 0.7763994799170678\n",
      "Skuteczność dla rejonu Woomera, model dla regoinu Woomera 0.9481605351170569\n",
      "\n",
      "Skuteczność dla całego kraju, model dla reginu SydneyAirport 0.7763994799170678\n",
      "Skuteczność dla rejonu SydneyAirport, model dla regoinu SydneyAirport 0.7254575707154742\n"
     ]
    }
   ],
   "source": [
    "print('Skuteczność dla całego kraju, model dla regoinu Woomera',metrics.accuracy_score(pred_kraj, allytest))\n",
    "print('Skuteczność dla rejonu Woomera, model dla regoinu Woomera',regions[35].sk_score)\n",
    "print()\n",
    "print('Skuteczność dla całego kraju, model dla reginu SydneyAirport',metrics.accuracy_score(pred_kraj_sa, allytest))\n",
    "print('Skuteczność dla rejonu SydneyAirport, model dla regoinu SydneyAirport',regions[11].sk_score)"
   ]
  },
  {
   "cell_type": "code",
   "execution_count": 51,
   "id": "ea6f56c6",
   "metadata": {},
   "outputs": [
    {
     "name": "stdout",
     "output_type": "stream",
     "text": [
      "(sk)Zbiór krajowy dla regionu: Albury              77.6%\n",
      "(sk)Zbiór lokalny dla regionu: Albury              79.4%\n",
      "\n",
      "(sk)Zbiór krajowy dla regionu: BadgerysCreek       77.6%\n",
      "(sk)Zbiór lokalny dla regionu: BadgerysCreek       79.9%\n",
      "\n",
      "(sk)Zbiór krajowy dla regionu: Cobar               77.6%\n",
      "(sk)Zbiór lokalny dla regionu: Cobar               88.5%\n",
      "\n",
      "(sk)Zbiór krajowy dla regionu: CoffsHarbour        77.6%\n",
      "(sk)Zbiór lokalny dla regionu: CoffsHarbour        68.9%\n",
      "\n",
      "(sk)Zbiór krajowy dla regionu: Moree               77.6%\n",
      "(sk)Zbiór lokalny dla regionu: Moree               86.0%\n",
      "\n",
      "i\n",
      "(sk)Zbiór krajowy dla regionu: NorahHead           22.4%\n",
      "(sk)Zbiór lokalny dla regionu: NorahHead           28.3%\n",
      "\n",
      "(sk)Zbiór krajowy dla regionu: NorfolkIsland       77.8%\n",
      "(sk)Zbiór lokalny dla regionu: NorfolkIsland       69.0%\n",
      "\n",
      "i\n",
      "(sk)Zbiór krajowy dla regionu: Richmond            22.4%\n",
      "(sk)Zbiór lokalny dla regionu: Richmond            19.1%\n",
      "\n",
      "(sk)Zbiór krajowy dla regionu: Sydney              22.4%\n",
      "(sk)Zbiór lokalny dla regionu: Sydney              23.7%\n",
      "\n",
      "(sk)Zbiór krajowy dla regionu: SydneyAirport       77.6%\n",
      "(sk)Zbiór lokalny dla regionu: SydneyAirport       72.5%\n",
      "\n",
      "(sk)Zbiór krajowy dla regionu: WaggaWagga          77.6%\n",
      "(sk)Zbiór lokalny dla regionu: WaggaWagga          79.7%\n",
      "\n",
      "(sk)Zbiór krajowy dla regionu: Williamtown         77.6%\n",
      "(sk)Zbiór lokalny dla regionu: Williamtown         69.3%\n",
      "\n",
      "(sk)Zbiór krajowy dla regionu: Wollongong          77.6%\n",
      "(sk)Zbiór lokalny dla regionu: Wollongong          76.9%\n",
      "\n",
      "(sk)Zbiór krajowy dla regionu: Canberra            77.6%\n",
      "(sk)Zbiór lokalny dla regionu: Canberra            83.0%\n",
      "\n",
      "(sk)Zbiór krajowy dla regionu: Tuggeranong         77.6%\n",
      "(sk)Zbiór lokalny dla regionu: Tuggeranong         80.8%\n",
      "\n",
      "i\n",
      "(sk)Zbiór krajowy dla regionu: Ballarat            77.6%\n",
      "(sk)Zbiór lokalny dla regionu: Ballarat            75.2%\n",
      "\n",
      "(sk)Zbiór krajowy dla regionu: Bendigo             77.6%\n",
      "(sk)Zbiór lokalny dla regionu: Bendigo             82.4%\n",
      "\n",
      "(sk)Zbiór krajowy dla regionu: Sale                77.6%\n",
      "(sk)Zbiór lokalny dla regionu: Sale                79.7%\n",
      "\n",
      "(sk)Zbiór krajowy dla regionu: MelbourneAirport    77.6%\n",
      "(sk)Zbiór lokalny dla regionu: MelbourneAirport    78.6%\n",
      "\n",
      "(sk)Zbiór krajowy dla regionu: Melbourne           77.6%\n",
      "(sk)Zbiór lokalny dla regionu: Melbourne           77.4%\n",
      "\n",
      "(sk)Zbiór krajowy dla regionu: Mildura             77.6%\n",
      "(sk)Zbiór lokalny dla regionu: Mildura             89.5%\n",
      "\n",
      "(sk)Zbiór krajowy dla regionu: Nhil                77.6%\n",
      "(sk)Zbiór lokalny dla regionu: Nhil                86.6%\n",
      "\n",
      "(sk)Zbiór krajowy dla regionu: Portland            77.6%\n",
      "(sk)Zbiór lokalny dla regionu: Portland            63.3%\n",
      "\n",
      "(sk)Zbiór krajowy dla regionu: Watsonia            77.6%\n",
      "(sk)Zbiór lokalny dla regionu: Watsonia            75.5%\n",
      "\n",
      "(sk)Zbiór krajowy dla regionu: Dartmoor            77.6%\n",
      "(sk)Zbiór lokalny dla regionu: Dartmoor            67.1%\n",
      "\n",
      "(sk)Zbiór krajowy dla regionu: Brisbane            80.7%\n",
      "(sk)Zbiór lokalny dla regionu: Brisbane            84.2%\n",
      "\n",
      "i\n",
      "(sk)Zbiór krajowy dla regionu: GoldCoast           77.6%\n",
      "(sk)Zbiór lokalny dla regionu: GoldCoast           74.2%\n",
      "\n",
      "(sk)Zbiór krajowy dla regionu: Townsville          77.6%\n",
      "(sk)Zbiór lokalny dla regionu: Townsville          81.9%\n",
      "\n",
      "(sk)Zbiór krajowy dla regionu: Adelaide            77.6%\n",
      "(sk)Zbiór lokalny dla regionu: Adelaide            78.2%\n",
      "\n",
      "(sk)Zbiór krajowy dla regionu: MountGambier        77.6%\n",
      "(sk)Zbiór lokalny dla regionu: MountGambier        66.7%\n",
      "\n",
      "(sk)Zbiór krajowy dla regionu: Nuriootpa           77.6%\n",
      "(sk)Zbiór lokalny dla regionu: Nuriootpa           78.7%\n",
      "\n",
      "(sk)Zbiór krajowy dla regionu: Woomera             77.6%\n",
      "(sk)Zbiór lokalny dla regionu: Woomera             94.8%\n",
      "\n",
      "i\n",
      "(sk)Zbiór krajowy dla regionu: Witchcliffe         77.6%\n",
      "(sk)Zbiór lokalny dla regionu: Witchcliffe         68.9%\n",
      "\n",
      "(sk)Zbiór krajowy dla regionu: PearceRAAF          77.6%\n",
      "(sk)Zbiór lokalny dla regionu: PearceRAAF          82.5%\n",
      "\n",
      "(sk)Zbiór krajowy dla regionu: PerthAirport        77.6%\n",
      "(sk)Zbiór lokalny dla regionu: PerthAirport        79.6%\n",
      "\n",
      "(sk)Zbiór krajowy dla regionu: Perth               77.6%\n",
      "(sk)Zbiór lokalny dla regionu: Perth               79.5%\n",
      "\n",
      "i\n",
      "(sk)Zbiór krajowy dla regionu: Walpole             77.6%\n",
      "(sk)Zbiór lokalny dla regionu: Walpole             65.1%\n",
      "\n",
      "(sk)Zbiór krajowy dla regionu: Hobart              77.6%\n",
      "(sk)Zbiór lokalny dla regionu: Hobart              75.2%\n",
      "\n",
      "(sk)Zbiór krajowy dla regionu: Launceston          77.6%\n",
      "(sk)Zbiór lokalny dla regionu: Launceston          77.7%\n",
      "\n",
      "(sk)Zbiór krajowy dla regionu: AliceSprings        77.6%\n",
      "(sk)Zbiór lokalny dla regionu: AliceSprings        93.4%\n",
      "\n",
      "(sk)Zbiór krajowy dla regionu: Darwin              77.6%\n",
      "(sk)Zbiór lokalny dla regionu: Darwin              72.1%\n",
      "\n",
      "(sk)Zbiór krajowy dla regionu: Katherine           77.6%\n",
      "(sk)Zbiór lokalny dla regionu: Katherine           81.7%\n",
      "\n",
      "(sk)Zbiór krajowy dla regionu: Uluru               22.4%\n",
      "(sk)Zbiór lokalny dla regionu: Uluru               7.9%\n",
      "\n"
     ]
    }
   ],
   "source": [
    "for reg in regions:\n",
    "    try:\n",
    "        data = reg.sk_model.predict(allxtest)\n",
    "        a = metrics.accuracy_score(data, allytest)\n",
    "        b = reg.sk_score\n",
    "        \n",
    "        print(f'(sk)Zbiór krajowy dla regionu: {reg.name:20}{a:.1%}')\n",
    "        print(f'(sk)Zbiór lokalny dla regionu: {reg.name:20}{b:.1%}')\n",
    "        print()\n",
    "        \n",
    "    except AttributeError:\n",
    "        pass"
   ]
  },
  {
   "cell_type": "code",
   "execution_count": 53,
   "id": "8bbcdc0a",
   "metadata": {},
   "outputs": [
    {
     "name": "stdout",
     "output_type": "stream",
     "text": [
      "Najlepszy model na danych lokalny dla testu krajowego: Brisbane 80.7%\n"
     ]
    }
   ],
   "source": [
    "print('Najlepszy model na danych lokalny dla testu krajowego: Brisbane 80.7%')"
   ]
  },
  {
   "cell_type": "code",
   "execution_count": 56,
   "id": "5a1facca",
   "metadata": {},
   "outputs": [
    {
     "data": {
      "text/plain": [
       "DummyClassifier(strategy='most_frequent')"
      ]
     },
     "execution_count": 56,
     "metadata": {},
     "output_type": "execute_result"
    }
   ],
   "source": [
    "from sklearn.dummy import DummyClassifier\n",
    "dummy_clf = DummyClassifier(strategy=\"most_frequent\")\n",
    "dummy_clf.fit(regions[28].xtrain, regions[28].ytrain)"
   ]
  },
  {
   "cell_type": "code",
   "execution_count": 61,
   "id": "58a9a12e",
   "metadata": {},
   "outputs": [],
   "source": [
    "dummy = dummy_clf.predict(allxtest)\n",
    "dummy_sc = metrics.accuracy_score(dummy, allytest)"
   ]
  },
  {
   "cell_type": "code",
   "execution_count": 63,
   "id": "f05ebfff",
   "metadata": {},
   "outputs": [
    {
     "name": "stdout",
     "output_type": "stream",
     "text": [
      "(sk)Zbiór krajowy dla model ucony na regionie: Brisbane            80.7%\n",
      "(dm)Zbiór krajowy dla model ucony na regionie: Brisbane            77.6%\n"
     ]
    }
   ],
   "source": [
    "bris =regions[28].sk_model.predict(allxtest)\n",
    "bris_sc = metrics.accuracy_score(bris, allytest)\n",
    "\n",
    "print(f'(sk)Zbiór krajowy dla model ucony na regionie: {regions[28].name:20}{bris_sc:.1%}')\n",
    "print(f'(dm)Zbiór krajowy dla model ucony na regionie: {regions[28].name:20}{dummy_sc:.1%}')"
   ]
  },
  {
   "cell_type": "code",
   "execution_count": null,
   "id": "2d2d881e",
   "metadata": {},
   "outputs": [],
   "source": []
  }
 ],
 "metadata": {
  "kernelspec": {
   "display_name": "Python 3 (ipykernel)",
   "language": "python",
   "name": "python3"
  },
  "language_info": {
   "codemirror_mode": {
    "name": "ipython",
    "version": 3
   },
   "file_extension": ".py",
   "mimetype": "text/x-python",
   "name": "python",
   "nbconvert_exporter": "python",
   "pygments_lexer": "ipython3",
   "version": "3.9.0"
  }
 },
 "nbformat": 4,
 "nbformat_minor": 5
}
