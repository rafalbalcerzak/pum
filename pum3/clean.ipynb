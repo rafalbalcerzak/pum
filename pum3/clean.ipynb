{
 "cells": [
  {
   "cell_type": "code",
   "execution_count": 1,
   "id": "32c54f3b",
   "metadata": {},
   "outputs": [],
   "source": [
    "from sklearn import datasets, linear_model, metrics, preprocessing\n",
    "from sklearn.preprocessing import PolynomialFeatures\n",
    "from sklearn.model_selection import train_test_split\n",
    "import matplotlib.pyplot as plt\n",
    "import numpy as np\n",
    "import scipy\n",
    "import time\n",
    "from math import e\n",
    "#ustawienia\n",
    "time_multiplicator = 100\n",
    "seed = 244810\n",
    "samples = 2410\n",
    "\n",
    "def norm(x):    \n",
    "    for i in range(x.shape[1]):\n",
    "        x_min = np.min(x[:,i])\n",
    "        x_max = np.max(x[:,i])\n",
    "\n",
    "        x[:,i] = (x[:,i] - x_min)/(x_max - x_min)\n",
    "\n",
    "    return x"
   ]
  },
  {
   "cell_type": "code",
   "execution_count": 2,
   "id": "30200aa0",
   "metadata": {},
   "outputs": [],
   "source": [
    "moons, moons_c = datasets.make_moons(n_samples=samples, noise = 0.1, random_state=seed)\n",
    "\n",
    "M_train, M_test, mc_train, mc_test = train_test_split(moons, moons_c, test_size=0.2, random_state=0)\n",
    "\n",
    "# M_train = norm(M_train)\n",
    "# M_test = norm(M_test)"
   ]
  },
  {
   "cell_type": "code",
   "execution_count": 3,
   "id": "84ac2459",
   "metadata": {},
   "outputs": [],
   "source": [
    "M_train = PolynomialFeatures(degree=3, include_bias=False).fit_transform(M_train)\n",
    "M_test = PolynomialFeatures(degree=3, include_bias=False).fit_transform(M_test)"
   ]
  },
  {
   "cell_type": "code",
   "execution_count": 4,
   "id": "cbd50201",
   "metadata": {},
   "outputs": [
    {
     "data": {
      "text/plain": [
       "LogisticRegression()"
      ]
     },
     "execution_count": 4,
     "metadata": {},
     "output_type": "execute_result"
    }
   ],
   "source": [
    "sk_model= linear_model.LogisticRegression()\n",
    "sk_model.fit(M_train,mc_train)\n"
   ]
  },
  {
   "cell_type": "code",
   "execution_count": 11,
   "id": "c1a58b74",
   "metadata": {},
   "outputs": [],
   "source": [
    "xmin = np.min(M_test[:,0])\n",
    "xmax = np.max(M_test[:,0])\n",
    "ymin = np.min(M_test[:,1])\n",
    "ymax = np.max(M_test[:,1])"
   ]
  },
  {
   "cell_type": "code",
   "execution_count": 12,
   "id": "d6c5a16b",
   "metadata": {},
   "outputs": [],
   "source": [
    "xx, yy = np.meshgrid(np.arange(xmin,xmax,0.01),np.arange(ymin,ymax,0.01))\n",
    "mesh = np.c_[xx.ravel(), yy.ravel()]\n",
    "\n",
    "mesh = PolynomialFeatures(degree=3, include_bias=False).fit_transform(mesh)"
   ]
  },
  {
   "cell_type": "code",
   "execution_count": 13,
   "id": "986ea9f7",
   "metadata": {},
   "outputs": [
    {
     "data": {
      "text/plain": [
       "<matplotlib.collections.PathCollection at 0x21a8fc22d90>"
      ]
     },
     "execution_count": 13,
     "metadata": {},
     "output_type": "execute_result"
    },
    {
     "data": {
      "image/png": "[encoded data removed]",
      "text/plain": [
       "<Figure size 432x288 with 1 Axes>"
      ]
     },
     "metadata": {
      "needs_background": "light"
     },
     "output_type": "display_data"
    }
   ],
   "source": [
    "ans = sk_model.predict(mesh).reshape(xx.shape)\n",
    "plt.contourf(xx,yy,ans, alpha=0.2)\n",
    "plt.scatter(M_test[:,0],M_test[:,1], c=mc_test,marker=\"+\", alpha=0.5)\n"
   ]
  },
  {
   "cell_type": "code",
   "execution_count": null,
   "id": "f698758a",
   "metadata": {},
   "outputs": [],
   "source": []
  }
 ],
 "metadata": {
  "kernelspec": {
   "display_name": "Python 3 (ipykernel)",
   "language": "python",
   "name": "python3"
  },
  "language_info": {
   "codemirror_mode": {
    "name": "ipython",
    "version": 3
   },
   "file_extension": ".py",
   "mimetype": "text/x-python",
   "name": "python",
   "nbconvert_exporter": "python",
   "pygments_lexer": "ipython3",
   "version": "3.9.0"
  }
 },
 "nbformat": 4,
 "nbformat_minor": 5
}
