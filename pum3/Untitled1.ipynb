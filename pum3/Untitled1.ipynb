{
 "cells": [
  {
   "cell_type": "code",
   "execution_count": 1,
   "id": "32c54f3b",
   "metadata": {},
   "outputs": [],
   "source": [
    "from sklearn import datasets, linear_model, metrics, preprocessing\n",
    "from sklearn.preprocessing import PolynomialFeatures\n",
    "from sklearn.model_selection import train_test_split\n",
    "import matplotlib.pyplot as plt\n",
    "import numpy as np\n",
    "import scipy\n",
    "import time\n",
    "from math import e\n",
    "#ustawienia\n",
    "time_multiplicator = 100\n",
    "seed = 244810\n",
    "samples = 2410\n",
    "\n",
    "def norm(x):    \n",
    "    for i in range(x.shape[1]):\n",
    "        x_min = np.min(x[:,i])\n",
    "        x_max = np.max(x[:,i])\n",
    "\n",
    "        x[:,i] = (x[:,i] - x_min)/(x_max - x_min)\n",
    "\n",
    "    return x"
   ]
  },
  {
   "cell_type": "code",
   "execution_count": 2,
   "id": "30200aa0",
   "metadata": {},
   "outputs": [],
   "source": [
    "moons, moons_c = datasets.make_moons(n_samples=samples, noise = 0.1, random_state=seed)\n",
    "\n",
    "M_train, M_test, mc_train, mc_test = train_test_split(moons, moons_c, test_size=0.2, random_state=0)\n",
    "\n",
    "# M_train = norm(M_train)\n",
    "# M_test = norm(M_test)"
   ]
  },
  {
   "cell_type": "code",
   "execution_count": 3,
   "id": "5e35580b",
   "metadata": {},
   "outputs": [
    {
     "data": {
      "text/plain": [
       "array([[ 0.42510438],\n",
       "       [-0.06450258],\n",
       "       [-1.04363919],\n",
       "       ...,\n",
       "       [ 1.91706219],\n",
       "       [ 0.57696914],\n",
       "       [ 0.05800266]])"
      ]
     },
     "execution_count": 3,
     "metadata": {},
     "output_type": "execute_result"
    }
   ],
   "source": [
    "M_train[:,0].reshape(len(M_train[:,0]),1)"
   ]
  },
  {
   "cell_type": "code",
   "execution_count": 4,
   "id": "0e4b47c5",
   "metadata": {},
   "outputs": [
    {
     "data": {
      "text/plain": [
       "array([[ 4.25104376e-01,  1.80713731e-01,  7.68221979e-02],\n",
       "       [-6.45025800e-02,  4.16058283e-03, -2.68368327e-04],\n",
       "       [-1.04363919e+00,  1.08918275e+00, -1.13671380e+00],\n",
       "       ...,\n",
       "       [ 1.91706219e+00,  3.67512745e+00,  7.04544789e+00],\n",
       "       [ 5.76969140e-01,  3.32893389e-01,  1.92069213e-01],\n",
       "       [ 5.80026555e-02,  3.36430804e-03,  1.95138800e-04]])"
      ]
     },
     "execution_count": 4,
     "metadata": {},
     "output_type": "execute_result"
    }
   ],
   "source": [
    "\n",
    "a = PolynomialFeatures(degree=3, include_bias=False).fit_transform(M_train[:,0].reshape(len(M_train[:,0]),1))\n",
    "a"
   ]
  },
  {
   "cell_type": "code",
   "execution_count": 5,
   "id": "c21aba8b",
   "metadata": {},
   "outputs": [
    {
     "data": {
      "text/plain": [
       "array([-0.5540655 ,  0.5392343 ,  0.40857054, ...,  0.40489587,\n",
       "        0.55349394,  0.21181114])"
      ]
     },
     "execution_count": 5,
     "metadata": {},
     "output_type": "execute_result"
    }
   ],
   "source": [
    "M_train[:,1]"
   ]
  },
  {
   "cell_type": "code",
   "execution_count": 6,
   "id": "8b791524",
   "metadata": {},
   "outputs": [],
   "source": [
    "b = PolynomialFeatures(degree=3, include_bias=False).fit_transform(M_train[:,1].reshape(len(M_train[:,1]),1))"
   ]
  },
  {
   "cell_type": "code",
   "execution_count": 7,
   "id": "abdb8e88",
   "metadata": {},
   "outputs": [
    {
     "data": {
      "text/plain": [
       "array([[ 4.25104376e-01,  1.80713731e-01,  7.68221979e-02,\n",
       "        -5.54065497e-01,  3.06988575e-01, -1.70091777e-01],\n",
       "       [-6.45025800e-02,  4.16058283e-03, -2.68368327e-04,\n",
       "         5.39234295e-01,  2.90773625e-01,  1.56795111e-01],\n",
       "       [-1.04363919e+00,  1.08918275e+00, -1.13671380e+00,\n",
       "         4.08570544e-01,  1.66929889e-01,  6.82026355e-02],\n",
       "       ...,\n",
       "       [ 1.91706219e+00,  3.67512745e+00,  7.04544789e+00,\n",
       "         4.04895872e-01,  1.63940667e-01,  6.63788995e-02],\n",
       "       [ 5.76969140e-01,  3.32893389e-01,  1.92069213e-01,\n",
       "         5.53493940e-01,  3.06355542e-01,  1.69565936e-01],\n",
       "       [ 5.80026555e-02,  3.36430804e-03,  1.95138800e-04,\n",
       "         2.11811141e-01,  4.48639597e-02,  9.50268651e-03]])"
      ]
     },
     "execution_count": 7,
     "metadata": {},
     "output_type": "execute_result"
    }
   ],
   "source": [
    "ab = np.hstack((a,b))\n",
    "ab"
   ]
  },
  {
   "cell_type": "code",
   "execution_count": 8,
   "id": "84ac2459",
   "metadata": {},
   "outputs": [],
   "source": [
    "M_train = PolynomialFeatures(degree=3, include_bias=False).fit_transform(M_train)\n",
    "M_test = PolynomialFeatures(degree=3, include_bias=False).fit_transform(M_test)"
   ]
  },
  {
   "cell_type": "code",
   "execution_count": 9,
   "id": "cbd50201",
   "metadata": {},
   "outputs": [
    {
     "data": {
      "text/plain": [
       "array([[-2.80717217, -7.27729032,  5.22300631, -6.72207404, -0.03601161,\n",
       "        -3.1335503 ]])"
      ]
     },
     "execution_count": 9,
     "metadata": {},
     "output_type": "execute_result"
    }
   ],
   "source": [
    "sk_model= linear_model.LogisticRegression()\n",
    "sk_model.fit(ab,mc_train)\n",
    "# sk_model.fit(M_train,mc_train)\n",
    "sk_model.coef_"
   ]
  },
  {
   "cell_type": "code",
   "execution_count": 10,
   "id": "d6c5a16b",
   "metadata": {},
   "outputs": [],
   "source": [
    "xx, yy = np.meshgrid(np.arange(0,1.1,0.05),np.arange(0,1.1,0.05))\n",
    "mesh = np.c_[xx.ravel(), yy.ravel()]\n",
    "\n",
    "#mesh = PolynomialFeatures(degree=1, include_bias=False).fit_transform(mesh)"
   ]
  },
  {
   "cell_type": "code",
   "execution_count": 11,
   "id": "bb4906cd",
   "metadata": {},
   "outputs": [
    {
     "data": {
      "text/plain": [
       "array([[0.000000e+00, 0.000000e+00, 0.000000e+00, 0.000000e+00,\n",
       "        0.000000e+00, 0.000000e+00],\n",
       "       [5.000000e-02, 2.500000e-03, 1.250000e-04, 0.000000e+00,\n",
       "        0.000000e+00, 0.000000e+00],\n",
       "       [1.000000e-01, 1.000000e-02, 1.000000e-03, 0.000000e+00,\n",
       "        0.000000e+00, 0.000000e+00],\n",
       "       ...,\n",
       "       [9.500000e-01, 9.025000e-01, 8.573750e-01, 1.050000e+00,\n",
       "        1.102500e+00, 1.157625e+00],\n",
       "       [1.000000e+00, 1.000000e+00, 1.000000e+00, 1.050000e+00,\n",
       "        1.102500e+00, 1.157625e+00],\n",
       "       [1.050000e+00, 1.102500e+00, 1.157625e+00, 1.050000e+00,\n",
       "        1.102500e+00, 1.157625e+00]])"
      ]
     },
     "execution_count": 11,
     "metadata": {},
     "output_type": "execute_result"
    }
   ],
   "source": [
    "\n",
    "c = PolynomialFeatures(degree=3, include_bias=False).fit_transform(mesh[:,0].reshape(len(mesh[:,0]),1))\n",
    "d = PolynomialFeatures(degree=3, include_bias=False).fit_transform(mesh[:,1].reshape(len(mesh[:,1]),1))\n",
    "cd = np.hstack((c,d))\n",
    "cd"
   ]
  },
  {
   "cell_type": "code",
   "execution_count": 12,
   "id": "986ea9f7",
   "metadata": {},
   "outputs": [
    {
     "data": {
      "text/plain": [
       "<matplotlib.collections.PathCollection at 0x272cf2568e0>"
      ]
     },
     "execution_count": 12,
     "metadata": {},
     "output_type": "execute_result"
    },
    {
     "data": {
      "image/png": "[encoded data removed]",
      "text/plain": [
       "<Figure size 432x288 with 1 Axes>"
      ]
     },
     "metadata": {
      "needs_background": "light"
     },
     "output_type": "display_data"
    }
   ],
   "source": [
    "ans = sk_model.predict(cd).reshape(xx.shape)\n",
    "\n",
    "plt.contourf(xx,yy,ans, alpha=0.2)\n",
    "plt.scatter(M_test[:,0],M_test[:,1], c=mc_test,marker=\"+\", alpha=0.5)\n"
   ]
  },
  {
   "cell_type": "code",
   "execution_count": null,
   "id": "f698758a",
   "metadata": {},
   "outputs": [],
   "source": []
  },
  {
   "cell_type": "code",
   "execution_count": null,
   "id": "7812e5ef",
   "metadata": {},
   "outputs": [],
   "source": []
  }
 ],
 "metadata": {
  "kernelspec": {
   "display_name": "Python 3 (ipykernel)",
   "language": "python",
   "name": "python3"
  },
  "language_info": {
   "codemirror_mode": {
    "name": "ipython",
    "version": 3
   },
   "file_extension": ".py",
   "mimetype": "text/x-python",
   "name": "python",
   "nbconvert_exporter": "python",
   "pygments_lexer": "ipython3",
   "version": "3.9.0"
  }
 },
 "nbformat": 4,
 "nbformat_minor": 5
}
