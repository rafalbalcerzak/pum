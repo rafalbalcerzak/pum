{
 "cells": [
  {
   "cell_type": "code",
   "execution_count": 1,
   "id": "b7d7cff6",
   "metadata": {},
   "outputs": [],
   "source": [
    "from sklearn import datasets, linear_model, metrics, preprocessing\n",
    "from sklearn.preprocessing import PolynomialFeatures\n",
    "import matplotlib.pyplot as plt\n",
    "import numpy as np\n",
    "import scipy\n",
    "import time"
   ]
  },
  {
   "cell_type": "markdown",
   "id": "232f3192",
   "metadata": {},
   "source": [
    "labely na -1 1\n"
   ]
  },
  {
   "cell_type": "code",
   "execution_count": 2,
   "id": "8a474ebd",
   "metadata": {},
   "outputs": [],
   "source": [
    "#ustawienia\n",
    "time_multiplicator = 100\n",
    "seed = 244810\n",
    "samples = 2410"
   ]
  },
  {
   "cell_type": "code",
   "execution_count": 3,
   "id": "ac38b1d4",
   "metadata": {},
   "outputs": [],
   "source": [
    "XY,C  = datasets.make_classification(n_features=2,n_clusters_per_class=1,n_redundant=0,n_samples=samples, random_state=seed,  class_sep=2)"
   ]
  },
  {
   "cell_type": "code",
   "execution_count": 4,
   "id": "62a5abcb",
   "metadata": {},
   "outputs": [],
   "source": [
    "from sklearn.model_selection import train_test_split\n",
    "XY_train, XY_test, C_train, C_test = train_test_split(XY, C, test_size=0.2, random_state=0)\n"
   ]
  },
  {
   "cell_type": "code",
   "execution_count": 5,
   "id": "66bcedb6",
   "metadata": {},
   "outputs": [],
   "source": [
    "#C_train = np.where(C_train==0, -1, C_train) \n",
    "#C_test = np.where(C_test==0, -1, C_test) "
   ]
  },
  {
   "cell_type": "code",
   "execution_count": 6,
   "id": "5f7aebc2",
   "metadata": {},
   "outputs": [],
   "source": [
    "def norm(x):\n",
    "    return (x - np.min(x)) / (np.max(x) - np.min(x))\n",
    "\n",
    "\n",
    "XY_train = norm(XY_train)\n",
    "XY_test = norm(XY_test)\n",
    "C_train = norm(C_train)\n",
    "C_test = norm(C_test)"
   ]
  },
  {
   "cell_type": "code",
   "execution_count": 7,
   "id": "3658a70e",
   "metadata": {},
   "outputs": [
    {
     "data": {
      "text/plain": [
       "array([[-0.45173958, -4.21119952]])"
      ]
     },
     "execution_count": 7,
     "metadata": {},
     "output_type": "execute_result"
    }
   ],
   "source": [
    "#sklearn\n",
    "sk_ridge_ans= linear_model.RidgeClassifier(alpha=2e-16).fit(XY_train,C_train)\n",
    "sk_ridge_ans.coef_"
   ]
  },
  {
   "cell_type": "code",
   "execution_count": 8,
   "id": "04a47c73",
   "metadata": {},
   "outputs": [
    {
     "data": {
      "text/plain": [
       "0.9896265560165975"
      ]
     },
     "execution_count": 8,
     "metadata": {},
     "output_type": "execute_result"
    }
   ],
   "source": [
    "sk_pred = sk_ridge_ans.predict(XY_test)\n",
    "metrics.accuracy_score(sk_pred, C_test)"
   ]
  },
  {
   "cell_type": "markdown",
   "id": "f63e2173",
   "metadata": {},
   "source": [
    "plt.figure(figsize=(12,6))\n",
    "plt.scatter(XY_train[:, 0], XY_train[:, 1], c=C_train, marker=\"+\", alpha=0.5)"
   ]
  },
  {
   "cell_type": "code",
   "execution_count": 18,
   "id": "c143139b",
   "metadata": {},
   "outputs": [
    {
     "data": {
      "text/plain": [
       "<matplotlib.collections.PathCollection at 0x2307367a670>"
      ]
     },
     "execution_count": 18,
     "metadata": {},
     "output_type": "execute_result"
    },
    {
     "data": {
      "image/png": "[encoded data removed]",
      "text/plain": [
       "<Figure size 432x288 with 1 Axes>"
      ]
     },
     "metadata": {
      "needs_background": "light"
     },
     "output_type": "display_data"
    }
   ],
   "source": [
    "#magiczny kod do wyświetlania\n",
    "\n",
    "mesh = np.meshgrid(np.arange(0, 1.1, 0.01), np.arange(0, 1.1, 0.01))[0]\n",
    "\n",
    "predict = sk_ridge_ans.predict(np.c_[mesh.ravel(), mesh.T.ravel()]).reshape(mesh.shape)\n",
    "\n",
    "plt.contourf(mesh, mesh.T, predict, alpha=0.4)\n",
    "#plt.scatter(XY_train[:, 0], XY_train[:, 1], c=C_train, marker=\"+\", alpha=0.5)\n",
    "plt.scatter(XY_test[:, 0], XY_test[:, 1], c=C_test+1, marker=\"+\", alpha=0.5)"
   ]
  },
  {
   "cell_type": "code",
   "execution_count": 10,
   "id": "e0086ef4",
   "metadata": {},
   "outputs": [],
   "source": [
    "#analityczna\n",
    "def my_ridge(XY, C, k): \n",
    "    return np.linalg.pinv(XY.T @ XY + k * np.identity(len(XY.T))) @ XY.T @ C\n"
   ]
  },
  {
   "cell_type": "code",
   "execution_count": 11,
   "id": "829295c8",
   "metadata": {},
   "outputs": [
    {
     "name": "stdout",
     "output_type": "stream",
     "text": [
      "[ 1.99928398 -1.85884819]\n",
      "[[-0.45173958 -4.21119952]]\n"
     ]
    }
   ],
   "source": [
    "my_ridge_ans = my_ridge(XY_train, C_train, 1e-100)\n",
    "print(my_ridge_ans)\n",
    "print(sk_ridge_ans.coef_)"
   ]
  },
  {
   "cell_type": "code",
   "execution_count": 33,
   "id": "d4aed223",
   "metadata": {},
   "outputs": [],
   "source": [
    "def my_prediction(theta, XY):\n",
    "    Y_pred = XY @ theta\n",
    "    mean = np.mean(Y_pred)\n",
    "    print(\"mean\",mean)\n",
    "    ans = []\n",
    "    for x in Y_pred:\n",
    "        if x >= mean:\n",
    "            ans.append(1.0)\n",
    "        else:\n",
    "            ans.append(0)\n",
    "    \n",
    "    return np.asarray(ans)"
   ]
  },
  {
   "cell_type": "code",
   "execution_count": 34,
   "id": "1799903a",
   "metadata": {},
   "outputs": [
    {
     "name": "stdout",
     "output_type": "stream",
     "text": [
      "mean 0.524774830457855\n"
     ]
    }
   ],
   "source": [
    "new = my_prediction(my_ridge_ans, XY_test)"
   ]
  },
  {
   "cell_type": "code",
   "execution_count": 35,
   "id": "e81983b6",
   "metadata": {},
   "outputs": [
    {
     "data": {
      "text/plain": [
       "0.950207468879668"
      ]
     },
     "execution_count": 35,
     "metadata": {},
     "output_type": "execute_result"
    }
   ],
   "source": [
    "metrics.accuracy_score(new, C_test)"
   ]
  },
  {
   "cell_type": "code",
   "execution_count": 36,
   "id": "14966fbe",
   "metadata": {},
   "outputs": [
    {
     "name": "stdout",
     "output_type": "stream",
     "text": [
      "mean 0.07653750616492375\n"
     ]
    },
    {
     "data": {
      "text/plain": [
       "<matplotlib.collections.PathCollection at 0x230738cae80>"
      ]
     },
     "execution_count": 36,
     "metadata": {},
     "output_type": "execute_result"
    },
    {
     "data": {
      "image/png": "[encoded data removed]",
      "text/plain": [
       "<Figure size 432x288 with 1 Axes>"
      ]
     },
     "metadata": {
      "needs_background": "light"
     },
     "output_type": "display_data"
    }
   ],
   "source": [
    "#magiczny kod do wyświetlania\n",
    "\n",
    "mesh = np.meshgrid(np.arange(0, 1.1, 0.01), np.arange(0, 1.1, 0.01))[0]\n",
    "\n",
    "asd = my_prediction(my_ridge_ans, np.c_[mesh.ravel(), mesh.T.ravel()]).reshape(mesh.shape)\n",
    "\n",
    "plt.contourf(mesh, mesh.T, asd, alpha=0.4)\n",
    "\n",
    "x = [0,1]\n",
    "y=[0,0]\n",
    "y[0] = sk_ridge_ans.coef_[0][1]*x[0] +sk_ridge_ans.coef_[0][0]\n",
    "y[1] = sk_ridge_ans.coef_[0][1]*x[1] +sk_ridge_ans.coef_[0][0]\n",
    "\n",
    "#plt.plot(x,y)\n",
    "#plt.scatter(XY_train[:, 0], XY_train[:, 1], c=C_train, marker=\"+\", alpha=0.5)\n",
    "plt.scatter(XY_test[:, 0], XY_test[:, 1], c=C_test+1, marker=\"+\", alpha=0.5)"
   ]
  },
  {
   "cell_type": "code",
   "execution_count": null,
   "id": "d03d90d1",
   "metadata": {},
   "outputs": [],
   "source": []
  }
 ],
 "metadata": {
  "kernelspec": {
   "display_name": "Python 3 (ipykernel)",
   "language": "python",
   "name": "python3"
  },
  "language_info": {
   "codemirror_mode": {
    "name": "ipython",
    "version": 3
   },
   "file_extension": ".py",
   "mimetype": "text/x-python",
   "name": "python",
   "nbconvert_exporter": "python",
   "pygments_lexer": "ipython3",
   "version": "3.9.0"
  }
 },
 "nbformat": 4,
 "nbformat_minor": 5
}
